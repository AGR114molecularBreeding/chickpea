{
  "metadata": {
    "language_info": {
      "codemirror_mode": {
        "name": "python",
        "version": 3
      },
      "file_extension": ".py",
      "mimetype": "text/x-python",
      "name": "python",
      "nbconvert_exporter": "python",
      "pygments_lexer": "ipython3",
      "version": "3.8"
    },
    "kernelspec": {
      "name": "python",
      "display_name": "Python (Pyodide)",
      "language": "python"
    },
    "colab": {
      "provenance": []
    }
  },
  "nbformat_minor": 0,
  "nbformat": 4,
  "cells": [
    {
      "cell_type": "markdown",
      "source": [
        "# Analysis of *Cis* Regulatory Elements (CREs) in Promoter Sequences"
      ],
      "metadata": {
        "tags": [],
        "id": "glksl5VvEJe_"
      }
    },
    {
      "cell_type": "code",
      "source": [
        "\"\"\"PMS.py: A Promoter Motive Search algorithm for indexing a text.\"\"\"\n",
        "\n",
        "__author__ = \"Jose V. Die\""
      ],
      "metadata": {
        "trusted": true,
        "id": "aqWeP6G8EJfB"
      },
      "execution_count": null,
      "outputs": []
    },
    {
      "cell_type": "markdown",
      "source": [
        "This notebook :\n",
        "   \n",
        "* counts the **occurrences of CREs** in a promoter dataset  \n",
        "* estimates the **number of promoters expected to contain at least 1 CRE**, based on MonteCarlo simulations.  \n",
        "* estimates the **P-value for the outcome** in the dataset, based on MonteCarlo simulations.  "
      ],
      "metadata": {
        "id": "vJrzYwuiEJfC"
      }
    },
    {
      "cell_type": "markdown",
      "source": [
        "&nbsp;"
      ],
      "metadata": {
        "id": "gNFVkjEsEJfC"
      }
    },
    {
      "cell_type": "code",
      "source": [
        "import os\n",
        "os.getcwd()"
      ],
      "metadata": {
        "trusted": true,
        "id": "FjSj9w2QEJfC",
        "outputId": "99528255-07ef-4810-dc5e-ef113ceb24a2"
      },
      "execution_count": null,
      "outputs": [
        {
          "execution_count": 4,
          "output_type": "execute_result",
          "data": {
            "text/plain": "'/drive/notebooks'"
          },
          "metadata": {}
        }
      ]
    },
    {
      "cell_type": "markdown",
      "source": [
        "&nbsp;"
      ],
      "metadata": {
        "id": "i1qgQjuBEJfD"
      }
    },
    {
      "cell_type": "markdown",
      "source": [
        "## Functions.\n",
        "Define a series of functions needed for the analysis."
      ],
      "metadata": {
        "id": "u1Dt96wlEJfD"
      }
    },
    {
      "cell_type": "code",
      "source": [
        "def readGenome(filename):\n",
        "    '''Read and store the nucleotide seqs from a multi-fasta file'''\n",
        "    genome = []\n",
        "    seqs=''\n",
        "    with open(filename, 'r') as f:\n",
        "        # Ignore header line with genome information\n",
        "        for line in f:\n",
        "            if line[0] == '>':\n",
        "                genome.append(seqs)\n",
        "                seqs = ''\n",
        "            if not line[0] == '>' :\n",
        "                    seqs += line.rstrip()\n",
        "        genome.append(seqs) # Add last sequence\n",
        "        del genome[0]       # Delete first empty sequence\n",
        "\n",
        "    return genome"
      ],
      "metadata": {
        "trusted": true,
        "id": "8YWGyVwpEJfD"
      },
      "execution_count": null,
      "outputs": []
    },
    {
      "cell_type": "code",
      "source": [
        "def nameGenome(filename):\n",
        "    '''Read and return the headers of each sequence in a multi-fasta file'''\n",
        "    headers = []\n",
        "    with open(filename, 'r') as f:\n",
        "        for line in f:\n",
        "            if line.startswith('>'):\n",
        "                headers.append(line.strip()[1:])\n",
        "    return headers"
      ],
      "metadata": {
        "trusted": true,
        "id": "G-UAOpGqEJfE"
      },
      "execution_count": null,
      "outputs": []
    },
    {
      "cell_type": "code",
      "source": [
        "%matplotlib inline\n",
        "import pylab\n",
        "\n",
        "def plotGC(genome) :\n",
        "         ejex=[]\n",
        "         ejey=[]\n",
        "         contenido = 0\n",
        "         for i in range(len(genome)) :\n",
        "             ejex.append(i+1)\n",
        "             contenido +=gc_fraction(genome[i])*100\n",
        "             mean = contenido/(i+1)\n",
        "             ejey.append(mean)\n",
        "         pylab.plot(ejex,ejey)\n",
        "         pylab.axis([0,35,20,30]) #Axes dimension frame\n",
        "         pylab.title(\"%i Chickpea \\n MADSbox Promoters\\nGC%% %0.1f to %0.1f\" \\\n",
        "                    % (len(ejey),min(ejey),max(ejey)))\n",
        "         pylab.xlabel(\"Number of promoters\")\n",
        "         pylab.ylabel(\"Content GC%\")"
      ],
      "metadata": {
        "trusted": true,
        "id": "D9Up_sj4EJfE"
      },
      "execution_count": null,
      "outputs": []
    },
    {
      "cell_type": "code",
      "source": [
        "import collections\n",
        "\n",
        "def countBases(sequence):\n",
        "    '''Count total number of each base in a given sequence\n",
        "    sequence must be a list of sequences'''\n",
        "    count = collections.Counter()\n",
        "    for seq in sequence:\n",
        "        count.update(seq)\n",
        "    return(count)"
      ],
      "metadata": {
        "trusted": true,
        "id": "Z4ko2eKDEJfE"
      },
      "execution_count": null,
      "outputs": []
    },
    {
      "cell_type": "code",
      "source": [
        "def naive(p,t): #Pattern, text\n",
        "    occurrences = []\n",
        "    for i in range(len(t) - len(p) + 1): #Every position in t where t can start w/o pass the end of t\n",
        "        match = True\n",
        "        for j in range(len(p)):        # Loop over characters\n",
        "            if not t[i+j] == p[j]:     # Compare characters\n",
        "                match = False\n",
        "                break #No sense comparing the rest of p because we find a mistmach\n",
        "        if match:\n",
        "            occurrences.append(i)\n",
        "    return occurrences\n",
        "\n",
        "\n",
        "def search(CRE, dataset) :\n",
        "    \"\"\"Return list containing sequence and ocurrence of a CRE within a dataset\"\"\"\n",
        "    's, sequence names containing CRE'\n",
        "    'occurrences, position in the sequence'\n",
        "    'genome, dataset'\n",
        "\n",
        "    s = []\n",
        "    occurrences = []\n",
        "    for seqs in range(len(dataset)) :\n",
        "        for motif in CRE :\n",
        "            if len(naive(motif, dataset[seqs])) >0 : # If the motif is found :\n",
        "                s.append(seqs)\n",
        "                occurrences.append(naive(motif, dataset[seqs]))\n",
        "\n",
        "    return s,occurrences\n"
      ],
      "metadata": {
        "trusted": true,
        "id": "W-RfGcV0EJfE"
      },
      "execution_count": null,
      "outputs": []
    },
    {
      "cell_type": "markdown",
      "source": [
        "------"
      ],
      "metadata": {
        "id": "L76TQeQMEJfF"
      }
    },
    {
      "cell_type": "markdown",
      "source": [
        "## Load the multi-fasta file"
      ],
      "metadata": {
        "id": "Kblxb7LVEJfF"
      }
    },
    {
      "cell_type": "code",
      "source": [
        "file_promoters = 'dat/mads_promoters.fasta'\n",
        "genome = readGenome(file_promoters)"
      ],
      "metadata": {
        "trusted": true,
        "id": "aGwZAzs6EJfF"
      },
      "execution_count": null,
      "outputs": []
    },
    {
      "cell_type": "markdown",
      "source": [
        "            \n",
        "    *  Number/Name of sequences :"
      ],
      "metadata": {
        "id": "UvT0iaInEJfF"
      }
    },
    {
      "cell_type": "code",
      "source": [
        "len(genome)"
      ],
      "metadata": {
        "trusted": true,
        "id": "r4zHV7nnEJfF",
        "outputId": "c64165ed-d432-431a-eee7-ec6724fe6f56"
      },
      "execution_count": null,
      "outputs": [
        {
          "execution_count": 11,
          "output_type": "execute_result",
          "data": {
            "text/plain": "34"
          },
          "metadata": {}
        }
      ]
    },
    {
      "cell_type": "code",
      "source": [
        "seq_names = nameGenome(file_promoters)\n",
        "seq_names[1:5]"
      ],
      "metadata": {
        "trusted": true,
        "id": "JZr0FyHHEJfG",
        "outputId": "a202da48-0346-466d-e262-ffaa2324fffa"
      },
      "execution_count": null,
      "outputs": [
        {
          "execution_count": 12,
          "output_type": "execute_result",
          "data": {
            "text/plain": "['LOC101493118_promoter',\n 'LOC101510419_promoter',\n 'LOC101504656_promoter',\n 'LOC101503022_promoter']"
          },
          "metadata": {}
        }
      ]
    },
    {
      "cell_type": "code",
      "source": [
        "import os\n",
        "os.listdir(\"dat/\")"
      ],
      "metadata": {
        "trusted": true,
        "id": "LFtmMHL7EJfG",
        "outputId": "c191d390-4530-4d59-ca03-298a9353b0ad"
      },
      "execution_count": null,
      "outputs": [
        {
          "execution_count": 13,
          "output_type": "execute_result",
          "data": {
            "text/plain": "['CREs.py', 'mads_promoters.fasta']"
          },
          "metadata": {}
        }
      ]
    },
    {
      "cell_type": "markdown",
      "source": [
        "The file `CREs.py` contains all the CREs to be examined. This list can constantly be updated with new CREs."
      ],
      "metadata": {
        "id": "4R-KhuNNEJfG"
      }
    },
    {
      "cell_type": "code",
      "source": [
        "os.chdir('dat')\n",
        "import CREs"
      ],
      "metadata": {
        "trusted": true,
        "id": "w0kEngHdEJfG"
      },
      "execution_count": null,
      "outputs": []
    },
    {
      "cell_type": "code",
      "source": [
        "CRE = CREs.MYCATERD22 #This must always be a list; does not work with a string"
      ],
      "metadata": {
        "trusted": true,
        "id": "nGqpTReoEJfG"
      },
      "execution_count": null,
      "outputs": []
    },
    {
      "cell_type": "code",
      "source": [
        "CRE"
      ],
      "metadata": {
        "trusted": true,
        "id": "c1spCHkLEJfG",
        "outputId": "f87f15eb-a328-4056-85fe-7e6ea12d9212"
      },
      "execution_count": null,
      "outputs": [
        {
          "execution_count": 16,
          "output_type": "execute_result",
          "data": {
            "text/plain": "['CACATG']"
          },
          "metadata": {}
        }
      ]
    },
    {
      "cell_type": "markdown",
      "source": [
        "**Sequence-coordinate combination of the motif in the sequence:** (It is not the sequence name but the position that the sequence has in the file + coordinate)"
      ],
      "metadata": {
        "id": "0C928bulEJfH"
      }
    },
    {
      "cell_type": "code",
      "source": [
        "a,b = search(CRE,genome)"
      ],
      "metadata": {
        "trusted": true,
        "id": "JVWzC1wyEJfH"
      },
      "execution_count": null,
      "outputs": []
    },
    {
      "cell_type": "markdown",
      "source": [
        "Promoter Sequence with the CRE - position in the multi-fasta file :"
      ],
      "metadata": {
        "id": "BzXfduB-EJfH"
      }
    },
    {
      "cell_type": "code",
      "source": [
        "a"
      ],
      "metadata": {
        "trusted": true,
        "id": "3n4J0SmAEJfH",
        "outputId": "f9d07f01-a96e-401d-8c99-101855382423"
      },
      "execution_count": null,
      "outputs": [
        {
          "execution_count": 18,
          "output_type": "execute_result",
          "data": {
            "text/plain": "[6, 7, 11, 16, 17, 19, 31]"
          },
          "metadata": {}
        }
      ]
    },
    {
      "cell_type": "markdown",
      "source": [
        "Promoter Sequence with the CRE - motive coordinate in the sequence :"
      ],
      "metadata": {
        "id": "zJeuunAAEJfH"
      }
    },
    {
      "cell_type": "code",
      "source": [
        "b"
      ],
      "metadata": {
        "trusted": true,
        "id": "pgipVC8eEJfH",
        "outputId": "70dcdcc2-ea13-4835-8f44-55f38615d123"
      },
      "execution_count": null,
      "outputs": [
        {
          "execution_count": 19,
          "output_type": "execute_result",
          "data": {
            "text/plain": "[[56], [869], [423, 1290], [1478], [909], [1290], [1059]]"
          },
          "metadata": {}
        }
      ]
    },
    {
      "cell_type": "code",
      "source": [
        "for i in range(len(a)) :\n",
        "               print(a[i],b[i]) #Position of the sequence in file and coordinates of the motif in this sequence"
      ],
      "metadata": {
        "trusted": true,
        "id": "9xQAB5emEJfI",
        "outputId": "db2eb3ce-65ae-463e-a707-b770ff7be523"
      },
      "execution_count": null,
      "outputs": [
        {
          "name": "stdout",
          "text": "6 [56]\n7 [869]\n11 [423, 1290]\n16 [1478]\n17 [909]\n19 [1290]\n31 [1059]\n",
          "output_type": "stream"
        }
      ]
    },
    {
      "cell_type": "markdown",
      "source": [
        "Name of the promoter sequence with the CRE :"
      ],
      "metadata": {
        "id": "MF20H0P9EJfI"
      }
    },
    {
      "cell_type": "code",
      "source": [
        "for n in a :\n",
        "    print(seq_names[n])"
      ],
      "metadata": {
        "trusted": true,
        "id": "vrn1lzcXEJfI",
        "outputId": "a8fab8f3-2c8a-4a68-a8c4-ac7dc978dc8f"
      },
      "execution_count": null,
      "outputs": [
        {
          "name": "stdout",
          "text": "LOC101503680_promoter\nLOC101504006_promoter\nLOC101510444_promoter\nLOC101506754_promoter\nLOC101501925_promoter\nLOC101514275_promoter\nLOC101490010_promoter\n",
          "output_type": "stream"
        }
      ]
    },
    {
      "cell_type": "markdown",
      "source": [
        "The same promoter may have various motives. To know exactly the\n",
        "number of different promoters in the motives :"
      ],
      "metadata": {
        "id": "gcu1g2lmEJfI"
      }
    },
    {
      "cell_type": "code",
      "source": [
        "len(set(a))"
      ],
      "metadata": {
        "trusted": true,
        "id": "CmzCF0DdEJfI",
        "outputId": "f8a6fc82-8e9b-4b55-ad7e-79b14f5dc69c"
      },
      "execution_count": null,
      "outputs": [
        {
          "execution_count": 22,
          "output_type": "execute_result",
          "data": {
            "text/plain": "7"
          },
          "metadata": {}
        }
      ]
    },
    {
      "cell_type": "markdown",
      "source": [
        "To know the promoter names (without repetitions) containing the motives:"
      ],
      "metadata": {
        "id": "RgUZLVCHEJfI"
      }
    },
    {
      "cell_type": "code",
      "source": [
        "for n in list(set(a)) :\n",
        "    print(seq_names[n])"
      ],
      "metadata": {
        "trusted": true,
        "id": "4pu7nt8XEJfJ",
        "outputId": "4a13bb42-33ce-40e8-e0b3-80ea224a0a78"
      },
      "execution_count": null,
      "outputs": [
        {
          "name": "stdout",
          "text": "LOC101503680_promoter\nLOC101504006_promoter\nLOC101510444_promoter\nLOC101506754_promoter\nLOC101501925_promoter\nLOC101514275_promoter\nLOC101490010_promoter\n",
          "output_type": "stream"
        }
      ]
    },
    {
      "cell_type": "markdown",
      "source": [
        "Right now, the file `CRE.py` contains *n* CRE :"
      ],
      "metadata": {
        "id": "apL7wJY3EJfJ"
      }
    },
    {
      "cell_type": "code",
      "source": [
        "len(CREs.all)"
      ],
      "metadata": {
        "trusted": true,
        "id": "5u8xBq6UEJfJ",
        "outputId": "151404b5-5287-4832-8046-9c755162c3f2"
      },
      "execution_count": null,
      "outputs": [
        {
          "execution_count": 24,
          "output_type": "execute_result",
          "data": {
            "text/plain": "43"
          },
          "metadata": {}
        }
      ]
    },
    {
      "cell_type": "markdown",
      "source": [
        "**Now we repeat the same programmatically (number of sequences with CRE in file / number of occurrences CRE)**"
      ],
      "metadata": {
        "id": "IJ-Cb4ILEJfJ"
      }
    },
    {
      "cell_type": "code",
      "source": [
        "for t in CREs.all :\n",
        "    CRE = t\n",
        "    a,b = search(CRE,genome)\n",
        "    occurr = 0\n",
        "    for m in b:\n",
        "        occurr +=len(m)\n",
        "    print(len(set(a)),occurr)"
      ],
      "metadata": {
        "trusted": true,
        "id": "YjLr3IlkEJfJ",
        "outputId": "cfb29cef-a83e-4c29-ad0b-232ed370f454"
      },
      "execution_count": null,
      "outputs": [
        {
          "name": "stdout",
          "text": "27 48\n2 2\n4 4\n9 17\n2 2\n0 0\n2 2\n24 39\n1 1\n24 47\n32 96\n9 11\n29 72\n34 414\n34 374\n26 53\n33 263\n34 149\n34 240\n34 226\n33 186\n32 106\n34 337\n4 4\n22 36\n21 30\n4 4\n27 48\n6 6\n9 12\n0 0\n3 3\n6 6\n1 1\n8 9\n8 8\n11 13\n2 2\n0 0\n9 10\n7 8\n32 82\n0 0\n",
          "output_type": "stream"
        }
      ]
    },
    {
      "cell_type": "markdown",
      "source": [
        "# Estimating the number of promoters expected to contain at least 1 CRE\n"
      ],
      "metadata": {
        "tags": [],
        "id": "_jD13q3oEJfK"
      }
    },
    {
      "cell_type": "markdown",
      "source": [
        "\n",
        "1.   Estimate the %GC content of the data set\n",
        "2.   Build a promoter using that GC content\n",
        "3. Estimate number of sequences expected to contain at least 1 CRE\n",
        "\n",
        "        *   atLeastOneMotif\n",
        "        *   runSim\n"
      ],
      "metadata": {
        "id": "bQv7WZLvEJfK"
      }
    },
    {
      "cell_type": "markdown",
      "source": [
        "&nbsp;"
      ],
      "metadata": {
        "id": "zIWzNUx2EJfK"
      }
    },
    {
      "cell_type": "markdown",
      "source": [
        "### 1. Estimate the average of GC content for my data set :"
      ],
      "metadata": {
        "tags": [],
        "id": "R11idx3tEJfK"
      }
    },
    {
      "cell_type": "code",
      "source": [
        "from Bio.SeqUtils import gc_fraction\n",
        "\n",
        "gc=[]\n",
        "for seq in genome:\n",
        "    gc.append(gc_fraction(seq))\n",
        "total = sum(gc)/len(gc)*100\n",
        "print('GC content :', round(total, 2), '%', sep = '')"
      ],
      "metadata": {
        "trusted": true,
        "id": "4gBZCP01EJfK",
        "outputId": "8ed73348-b677-4736-cb44-ef37c822e3d1"
      },
      "execution_count": null,
      "outputs": [
        {
          "name": "stdout",
          "text": "GC content :26.02%\n",
          "output_type": "stream"
        }
      ]
    },
    {
      "cell_type": "code",
      "source": [
        "plotGC(genome)\n",
        "pylab.show()"
      ],
      "metadata": {
        "trusted": true,
        "id": "oPjhLWu8EJfL",
        "outputId": "f1faac5c-569c-41a2-d089-b059a3730727"
      },
      "execution_count": null,
      "outputs": [
        {
          "output_type": "display_data",
          "data": {
            "text/plain": "<Figure size 640x480 with 1 Axes>",
            "image/png": "[encoded data removed]"
          },
          "metadata": {}
        }
      ]
    },
    {
      "cell_type": "code",
      "source": [
        "countBases(genome)"
      ],
      "metadata": {
        "trusted": true,
        "id": "tdS5ROYlEJfL",
        "outputId": "1bfe88b2-1ad2-4b8d-d4a3-88256eab256e"
      },
      "execution_count": null,
      "outputs": [
        {
          "execution_count": 28,
          "output_type": "execute_result",
          "data": {
            "text/plain": "Counter({'T': 18742, 'A': 19044, 'G': 6441, 'C': 6854, 'N': 225})"
          },
          "metadata": {}
        }
      ]
    },
    {
      "cell_type": "code",
      "source": [
        "totalBases = countBases(genome)['G'] + countBases(genome)['C'] + countBases(genome)['A'] + \\\n",
        "    countBases(genome)['T'] + countBases(genome)['N']\n",
        "\n",
        "contA = countBases(genome)['A']/float(totalBases)*100\n",
        "contT = countBases(genome)['T']/float(totalBases)*100\n",
        "contG = countBases(genome)['G']/float(totalBases)*100\n",
        "contC = countBases(genome)['C']/float(totalBases)*100\n",
        "contN = countBases(genome)['N']/float(totalBases)*100\n",
        "\n",
        "print('GC content:',contG+contC,'%')\n",
        "print('')\n",
        "print('A content:',round(contA,1),'%')\n",
        "print('T content:',round(contT,1),'%')\n",
        "print('G content:',round(contG,1),'%')\n",
        "print('C content:',round(contC,1),'%')\n",
        "print('N content:',round(contN,1),'%')"
      ],
      "metadata": {
        "trusted": true,
        "id": "vzAsh2QxEJfL",
        "outputId": "bc0bb958-b86a-4c18-bf15-5b3f01f42c1c"
      },
      "execution_count": null,
      "outputs": [
        {
          "name": "stdout",
          "text": "GC content: 25.913148559622655 %\n\nA content: 37.1 %\nT content: 36.5 %\nG content: 12.6 %\nC content: 13.4 %\nN content: 0.4 %\n",
          "output_type": "stream"
        }
      ]
    },
    {
      "cell_type": "markdown",
      "source": [
        "If the sequences contain \"N\", the total % Bases is not 100%.\n",
        "To weigh these 'N' they can be attributed with the proportion of every single found base."
      ],
      "metadata": {
        "id": "r6-ziZEwEJfL"
      }
    },
    {
      "cell_type": "code",
      "source": [
        "print('A content:',round((countBases(genome)['A'] + contN * contA/100)/float(totalBases)*100,1),'%')\n",
        "print('T content:',round((countBases(genome)['T'] + contN * contA/100)/float(totalBases)*100,1),'%')\n",
        "print('G content:',round((countBases(genome)['G'] + contN * contA/100)/float(totalBases)*100,1),'%')\n",
        "print('C content:',round((countBases(genome)['C'] + contN * contA/100)/float(totalBases)*100,1),'%')\n",
        "print('')\n",
        "print('GC content:',(countBases(genome)['G'] + contN * contA/100)/float(totalBases)*100 +\\\n",
        "(countBases(genome)['C'] + contN * contA/100)/float(totalBases)*100,'%')"
      ],
      "metadata": {
        "trusted": true,
        "id": "0HWdgVneEJfL",
        "outputId": "775be4c4-3298-4675-b55d-a1364de1b319"
      },
      "execution_count": null,
      "outputs": [
        {
          "name": "stdout",
          "text": "A content: 37.1 %\nT content: 36.5 %\nG content: 12.6 %\nC content: 13.4 %\n\nGC content: 25.913783110159876 %\n",
          "output_type": "stream"
        }
      ]
    },
    {
      "cell_type": "markdown",
      "source": [
        "&nbsp;"
      ],
      "metadata": {
        "id": "0jxH0lAFEJfM"
      }
    },
    {
      "cell_type": "markdown",
      "source": [
        "### 2.   Build a synthetic promoter dataset using that GC content"
      ],
      "metadata": {
        "tags": [],
        "id": "t4TmMvriEJfM"
      }
    },
    {
      "cell_type": "code",
      "source": [
        "from random import choice\n",
        "\n",
        "def weightedchoice(items):\n",
        "    return choice(\"\".join(x * y for x, y in items))\n",
        "\n",
        "def getPromoter(length):\n",
        "       '''Generates promoter with weighted bases'''\n",
        "       DNA = \"\"\n",
        "       for count in range(length):\n",
        "\n",
        "            #Here we need to introduce the base frequence\n",
        "            DNA+=weightedchoice([('C',13),('G',13),('A',37),('T',37)])\n",
        "\n",
        "       return DNA"
      ],
      "metadata": {
        "trusted": true,
        "id": "qr4lfEucEJfM"
      },
      "execution_count": null,
      "outputs": []
    },
    {
      "cell_type": "markdown",
      "source": [
        "&nbsp;"
      ],
      "metadata": {
        "id": "4ijuakIiEJfM"
      }
    },
    {
      "cell_type": "markdown",
      "source": [
        "### 3. Estimate number of sequences expected to contain at least 1 CRE"
      ],
      "metadata": {
        "tags": [],
        "id": "34qjjQnTEJfM"
      }
    },
    {
      "cell_type": "code",
      "source": [
        "def atLeastOneMotif(CRE, bp, nset):\n",
        "    '''\n",
        "    Return %promoters in a given data set containing at least 1 CRE\n",
        "\n",
        "    CRE, cis-regulatory element\n",
        "    bp, promoter length (1500)\n",
        "    nset, number of actual promoters (65)\n",
        "    '''\n",
        "    numSuccess = 0 #Number of seqs with at least 1 motif\n",
        "\n",
        "    for p in range(nset) :\n",
        "        promotor = getPromoter(bp)\n",
        "        numMotives = 0\n",
        "\n",
        "        for m in CRE :\n",
        "            if m in promotor :\n",
        "                numMotives +=1\n",
        "\n",
        "                if numMotives >0:\n",
        "                    numSuccess +=1\n",
        "                    break\n",
        "\n",
        "\n",
        "    fracSuccess = numSuccess/float(nset)\n",
        "\n",
        "    return fracSuccess"
      ],
      "metadata": {
        "trusted": true,
        "id": "mZO_h5F1EJfM"
      },
      "execution_count": null,
      "outputs": []
    },
    {
      "cell_type": "code",
      "source": [
        "CREs.DRE"
      ],
      "metadata": {
        "trusted": true,
        "id": "spe903E7EJfN",
        "outputId": "104715c5-f016-4b56-e9d4-c77187356ca4"
      },
      "execution_count": null,
      "outputs": [
        {
          "execution_count": 33,
          "output_type": "execute_result",
          "data": {
            "text/plain": "['GCCGAC', 'ACCGAC']"
          },
          "metadata": {}
        }
      ]
    },
    {
      "cell_type": "code",
      "source": [
        "import random\n",
        "CRE = CREs.DRE\n",
        "nset = len(genome)\n",
        "random.seed(26)\n",
        "model1 = atLeastOneMotif(CRE,1500,nset)*nset\n",
        "a,b = search(CRE,genome)\n",
        "true = len(a)\n",
        "print(\"Summary : \\n Number of actual promoters in the dataset showing the CRE : {} promoters\".format(true))\n",
        "print(\" Theoretically, the number of promoters showing at least 1 CRE : {} promoters\".format(model1))"
      ],
      "metadata": {
        "trusted": true,
        "id": "ZFCXtqa-EJfN",
        "outputId": "d6645cb9-a911-4d9c-c7a1-920b69150fe3"
      },
      "execution_count": null,
      "outputs": [
        {
          "name": "stdout",
          "text": "Summary : \n Number of actual promoters in the dataset showing the CRE : 4 promoters\n Theoretically, the number of promoters showing at least 1 CRE : 2.0 promoters\n",
          "output_type": "stream"
        }
      ]
    },
    {
      "cell_type": "markdown",
      "source": [
        "&nbsp;"
      ],
      "metadata": {
        "id": "MCpHnO-4EJfN"
      }
    },
    {
      "cell_type": "markdown",
      "source": [
        "More accurate : Instead of generating `nset` sequences randomly and count in how many of them at least 1 CRE appears, we perform 2000 simulations of `nset` promoters each and save the number in each simulation."
      ],
      "metadata": {
        "id": "LmXrH8IDEJfN"
      }
    },
    {
      "cell_type": "code",
      "source": [
        "def runSim(CRE,bp,nset,numTrials) :\n",
        "    '''\n",
        "    Run a MC simulation (numTrials).\n",
        "    Return a vector list with the number of expected promotores\n",
        "    in a given data set (nset) containing at least 1 CRE in each\n",
        "    trial (numTrials)\n",
        "\n",
        "    CRE, cis-regulatory element\n",
        "    bp, promoter length (1500)\n",
        "    nset, number promoters in the data set\n",
        "    numTrials, number of simulations\n",
        "    '''\n",
        "\n",
        "    vals= []\n",
        "    total = 0\n",
        "    for i in range(1,numTrials+1) :\n",
        "        ## Keep track of the simulations\n",
        "        if i%200==0 :\n",
        "          print('Simulation',i)\n",
        "        total += atLeastOneMotif(CRE, bp, nset)*nset\n",
        "        vals.append(round(total/i,3))\n",
        "\n",
        "    return vals"
      ],
      "metadata": {
        "trusted": true,
        "id": "qLAw-BXjEJfN"
      },
      "execution_count": null,
      "outputs": []
    },
    {
      "cell_type": "code",
      "source": [
        "import random\n",
        "CRE = CREs.DRE\n",
        "nset = len(genome)\n",
        "random.seed(26)\n",
        "vals = runSim(CRE, 1500, nset, 2000)"
      ],
      "metadata": {
        "trusted": true,
        "id": "1wJmXYxOEJfN",
        "outputId": "837459d0-4b14-40d8-d2a5-6e9ce17346bc"
      },
      "execution_count": null,
      "outputs": [
        {
          "name": "stdout",
          "text": "Simulacion 201\nSimulacion 401\nSimulacion 601\nSimulacion 801\nSimulacion 1001\nSimulacion 1201\nSimulacion 1401\nSimulacion 1601\nSimulacion 1801\nSimulacion 2001\n",
          "output_type": "stream"
        }
      ]
    },
    {
      "cell_type": "code",
      "source": [
        "%matplotlib inline\n",
        "import pylab\n",
        "numTrials = 2000\n",
        "yAxis = vals\n",
        "xAxis = range(1,numTrials+1)\n",
        "pylab.xlabel('N. Simulations')\n",
        "pylab.ylabel('N. Sequences occurring \\n at least 1 DRE')\n",
        "pylab.plot(xAxis, yAxis, color = \"orange\")\n",
        "pylab.show()"
      ],
      "metadata": {
        "trusted": true,
        "id": "ibY8ucF2EJfO",
        "outputId": "9ba723c5-e128-4b45-a504-e17bee39c0f0"
      },
      "execution_count": null,
      "outputs": [
        {
          "output_type": "display_data",
          "data": {
            "text/plain": "<Figure size 640x480 with 1 Axes>",
            "image/png": "[encoded data removed]"
          },
          "metadata": {}
        }
      ]
    },
    {
      "cell_type": "code",
      "source": [
        "seq = vals[-1]\n",
        "print(\"Summary : \\n Number of actual promoters in the dataset showing the CRE : {} promoters\".format(true))\n",
        "print(\" Theoretically (roughly) , the number of promoters showing at least 1 CRE : {} promoters\".format(model1))\n",
        "print(\" Theoretically (accurate) , the number of promoters showing at least 1 CRE : {} promoters\".format(seq))"
      ],
      "metadata": {
        "trusted": true,
        "id": "BXp_2bMaEJfO",
        "outputId": "fb2d6163-f389-45ef-d2b2-0dbfb3cb2c88"
      },
      "execution_count": null,
      "outputs": [
        {
          "name": "stdout",
          "text": "Summary : \n Number of actual promoters in the dataset showing the CRE : 4 promoters\n Theoretically (roughly) , the number of promoters showing at least 1 CRE : 2.0 promoters\n Theoretically (accurate) , the number of promoters showing at least 1 CRE : 2.58 promoters\n",
          "output_type": "stream"
        }
      ]
    },
    {
      "cell_type": "markdown",
      "source": [
        "&nbsp;"
      ],
      "metadata": {
        "id": "1-hD1GK7EJfO"
      }
    },
    {
      "cell_type": "markdown",
      "source": [
        "**Now we repeat the same programmatically for all CREs**"
      ],
      "metadata": {
        "id": "lTV7c7VrEJfO"
      }
    },
    {
      "cell_type": "markdown",
      "source": [
        " `runSim` is modified to return only the last simulation value.\n",
        "  \n",
        "    * for graphical representation : runSim\n",
        "    * for value in the table : runSim2"
      ],
      "metadata": {
        "id": "ytKqd19JEJfO"
      }
    },
    {
      "cell_type": "markdown",
      "source": [
        "&nbsp;"
      ],
      "metadata": {
        "id": "TN_NuTYFEJfO"
      }
    },
    {
      "cell_type": "code",
      "source": [
        "def runSim2(CRE,bp,nset,numTrials) :\n",
        "    '''\n",
        "    Run a MC simulation (numTrials).\n",
        "    Return the number of expected promotores\n",
        "    in a given data set (nset) containing at least 1 CRE in each\n",
        "    trial (numTrials)\n",
        "\n",
        "    CRE, cis-regulatory element\n",
        "    bp, promoter length (1500)\n",
        "    nset, number promoters in the data set\n",
        "    numTrials, number of simulations\n",
        "    '''\n",
        "\n",
        "    vals= []\n",
        "    total = 0\n",
        "    for i in range(1,numTrials+1) :\n",
        "        ## Keep track of the simulations\n",
        "        if i%200==0 :\n",
        "          print('Simulation',i)\n",
        "        total += atLeastOneMotif(CRE, bp, nset)*nset\n",
        "        vals.append(round(total/i,3))\n",
        "\n",
        "    return vals[-1]"
      ],
      "metadata": {
        "trusted": true,
        "id": "q8G5mJBrEJfP"
      },
      "execution_count": null,
      "outputs": []
    },
    {
      "cell_type": "markdown",
      "source": [
        "#### RUN SIMULATIONS"
      ],
      "metadata": {
        "tags": [],
        "id": "msWothwtEJfP"
      }
    },
    {
      "cell_type": "code",
      "source": [
        "import timeit\n",
        "import random\n",
        "start_time = timeit.default_timer()\n",
        "vals2 = []\n",
        "nset = len(genome)\n",
        "for i in range(len(CREs.all)) :\n",
        "    CRE = CREs.all[i]\n",
        "    print('')\n",
        "    print(' CRE:', CREs.get_list_name_by_index(index=i, list_of_lists=CREs.all))\n",
        "    random.seed(25)\n",
        "    vals2.append(runSim2(CRE, 1500, nset, 2000))\n",
        "\n",
        "elapsed = timeit.default_timer() - start_time"
      ],
      "metadata": {
        "trusted": true,
        "id": "dHtLB87IEJfP",
        "outputId": "f8ce4457-9f64-4edc-91fd-78d2b1943f38"
      },
      "execution_count": null,
      "outputs": [
        {
          "name": "stdout",
          "text": "CRE: WBOX\nSimulacion 200\nSimulacion 400\nSimulacion 600\nSimulacion 800\nSimulacion 1000\nSimulacion 1200\nSimulacion 1400\nSimulacion 1600\nSimulacion 1800\nSimulacion 2000\nCRE: CBF\nSimulacion 200\nSimulacion 400\nSimulacion 600\nSimulacion 800\nSimulacion 1000\nSimulacion 1200\nSimulacion 1400\nSimulacion 1600\nSimulacion 1800\nSimulacion 2000\nCRE: DRE\nSimulacion 200\nSimulacion 400\nSimulacion 600\nSimulacion 800\nSimulacion 1000\nSimulacion 1200\nSimulacion 1400\nSimulacion 1600\nSimulacion 1800\nSimulacion 2000\nCRE: CAMTA\nSimulacion 200\nSimulacion 400\nSimulacion 600\nSimulacion 800\nSimulacion 1000\nSimulacion 1200\nSimulacion 1400\nSimulacion 1600\nSimulacion 1800\nSimulacion 2000\nCRE: ABRE\nSimulacion 200\nSimulacion 400\nSimulacion 600\nSimulacion 800\nSimulacion 1000\nSimulacion 1200\nSimulacion 1400\nSimulacion 1600\nSimulacion 1800\nSimulacion 2000\nCRE: AtBH5\nSimulacion 200\nSimulacion 400\nSimulacion 600\nSimulacion 800\nSimulacion 1000\nSimulacion 1200\nSimulacion 1400\nSimulacion 1600\nSimulacion 1800\nSimulacion 2000\nCRE: RAV1B\nSimulacion 200\nSimulacion 400\nSimulacion 600\nSimulacion 800\nSimulacion 1000\nSimulacion 1200\nSimulacion 1400\nSimulacion 1600\nSimulacion 1800\nSimulacion 2000\nCRE: nuevo1\nSimulacion 200\nSimulacion 400\nSimulacion 600\nSimulacion 800\nSimulacion 1000\nSimulacion 1200\nSimulacion 1400\nSimulacion 1600\nSimulacion 1800\nSimulacion 2000\nCRE: nuevo2\nSimulacion 200\nSimulacion 400\nSimulacion 600\nSimulacion 800\nSimulacion 1000\nSimulacion 1200\nSimulacion 1400\nSimulacion 1600\nSimulacion 1800\nSimulacion 2000\nCRE: WLE1\nSimulacion 200\nSimulacion 400\nSimulacion 600\nSimulacion 800\nSimulacion 1000\nSimulacion 1200\nSimulacion 1400\nSimulacion 1600\nSimulacion 1800\nSimulacion 2000\nCRE: RAV1AAT\nSimulacion 200\nSimulacion 400\nSimulacion 600\nSimulacion 800\nSimulacion 1000\nSimulacion 1200\nSimulacion 1400\nSimulacion 1600\nSimulacion 1800\nSimulacion 2000\nCRE: ASF1\nSimulacion 200\nSimulacion 400\nSimulacion 600\nSimulacion 800\nSimulacion 1000\nSimulacion 1200\nSimulacion 1400\nSimulacion 1600\nSimulacion 1800\nSimulacion 2000\nCRE: nuevo4\nSimulacion 200\nSimulacion 400\nSimulacion 600\nSimulacion 800\nSimulacion 1000\nSimulacion 1200\nSimulacion 1400\nSimulacion 1600\nSimulacion 1800\nSimulacion 2000\nCRE: DOFCOREZM\nSimulacion 200\nSimulacion 400\nSimulacion 600\nSimulacion 800\nSimulacion 1000\nSimulacion 1200\nSimulacion 1400\nSimulacion 1600\nSimulacion 1800\nSimulacion 2000\nCRE: CACTFTPPCA1\nSimulacion 200\nSimulacion 400\nSimulacion 600\nSimulacion 800\nSimulacion 1000\nSimulacion 1200\nSimulacion 1400\nSimulacion 1600\nSimulacion 1800\nSimulacion 2000\nCRE: CAATBOX1\nSimulacion 200\nSimulacion 400\nSimulacion 600\nSimulacion 800\nSimulacion 1000\nSimulacion 1200\nSimulacion 1400\nSimulacion 1600\nSimulacion 1800\nSimulacion 2000\nCRE: GT1CONSENSUS\nSimulacion 200\nSimulacion 400\nSimulacion 600\nSimulacion 800\nSimulacion 1000\nSimulacion 1200\nSimulacion 1400\nSimulacion 1600\nSimulacion 1800\nSimulacion 2000\nCRE: GTGANTG10\nSimulacion 200\nSimulacion 400\nSimulacion 600\nSimulacion 800\nSimulacion 1000\nSimulacion 1200\nSimulacion 1400\nSimulacion 1600\nSimulacion 1800\nSimulacion 2000\nCRE: ARR1AT\nSimulacion 200\nSimulacion 400\nSimulacion 600\nSimulacion 800\nSimulacion 1000\nSimulacion 1200\nSimulacion 1400\nSimulacion 1600\nSimulacion 1800\nSimulacion 2000\nCRE: GATABOX\nSimulacion 200\nSimulacion 400\nSimulacion 600\nSimulacion 800\nSimulacion 1000\nSimulacion 1200\nSimulacion 1400\nSimulacion 1600\nSimulacion 1800\nSimulacion 2000\nCRE: POLLEN1LELAT52\nSimulacion 200\nSimulacion 400\nSimulacion 600\nSimulacion 800\nSimulacion 1000\nSimulacion 1200\nSimulacion 1400\nSimulacion 1600\nSimulacion 1800\nSimulacion 2000\nCRE: WRKY71OS\nSimulacion 200\nSimulacion 400\nSimulacion 600\nSimulacion 800\nSimulacion 1000\nSimulacion 1200\nSimulacion 1400\nSimulacion 1600\nSimulacion 1800\nSimulacion 2000\nCRE: ROOTMOTIFTAPOX1\nSimulacion 200\nSimulacion 400\nSimulacion 600\nSimulacion 800\nSimulacion 1000\nSimulacion 1200\nSimulacion 1400\nSimulacion 1600\nSimulacion 1800\nSimulacion 2000\nCRE: WBBOXPCWRKY1\nSimulacion 200\nSimulacion 400\nSimulacion 600\nSimulacion 800\nSimulacion 1000\nSimulacion 1200\nSimulacion 1400\nSimulacion 1600\nSimulacion 1800\nSimulacion 2000\nCRE: WBOXATNPR1\nSimulacion 200\nSimulacion 400\nSimulacion 600\nSimulacion 800\nSimulacion 1000\nSimulacion 1200\nSimulacion 1400\nSimulacion 1600\nSimulacion 1800\nSimulacion 2000\nCRE: WBOXHVISO1\nSimulacion 200\nSimulacion 400\nSimulacion 600\nSimulacion 800\nSimulacion 1000\nSimulacion 1200\nSimulacion 1400\nSimulacion 1600\nSimulacion 1800\nSimulacion 2000\nCRE: WBOXNTCHN48\nSimulacion 200\nSimulacion 400\nSimulacion 600\nSimulacion 800\nSimulacion 1000\nSimulacion 1200\nSimulacion 1400\nSimulacion 1600\nSimulacion 1800\nSimulacion 2000\nCRE: WBOX\nSimulacion 200\nSimulacion 400\nSimulacion 600\nSimulacion 800\nSimulacion 1000\nSimulacion 1200\nSimulacion 1400\nSimulacion 1600\nSimulacion 1800\nSimulacion 2000\nCRE: AuxRE1\nSimulacion 200\nSimulacion 400\nSimulacion 600\nSimulacion 800\nSimulacion 1000\nSimulacion 1200\nSimulacion 1400\nSimulacion 1600\nSimulacion 1800\nSimulacion 2000\nCRE: CATATGGMSAUR\nSimulacion 200\nSimulacion 400\nSimulacion 600\nSimulacion 800\nSimulacion 1000\nSimulacion 1200\nSimulacion 1400\nSimulacion 1600\nSimulacion 1800\nSimulacion 2000\nCRE: DRE1COREZMRAB17\nSimulacion 200\nSimulacion 400\nSimulacion 600\nSimulacion 800\nSimulacion 1000\nSimulacion 1200\nSimulacion 1400\nSimulacion 1600\nSimulacion 1800\nSimulacion 2000\nCRE: DRE2COREZMRAB17\nSimulacion 200\nSimulacion 400\nSimulacion 600\nSimulacion 800\nSimulacion 1000\nSimulacion 1200\nSimulacion 1400\nSimulacion 1600\nSimulacion 1800\nSimulacion 2000\nCRE: LTRE1HVBLT49\nSimulacion 200\nSimulacion 400\nSimulacion 600\nSimulacion 800\nSimulacion 1000\nSimulacion 1200\nSimulacion 1400\nSimulacion 1600\nSimulacion 1800\nSimulacion 2000\nCRE: LTREATLTI78\nSimulacion 200\nSimulacion 400\nSimulacion 600\nSimulacion 800\nSimulacion 1000\nSimulacion 1200\nSimulacion 1400\nSimulacion 1600\nSimulacion 1800\nSimulacion 2000\nCRE: LTRECOREATCOR15\nSimulacion 200\nSimulacion 400\nSimulacion 600\nSimulacion 800\nSimulacion 1000\nSimulacion 1200\nSimulacion 1400\nSimulacion 1600\nSimulacion 1800\nSimulacion 2000\nCRE: MYCATERD1\nSimulacion 200\nSimulacion 400\nSimulacion 600\nSimulacion 800\nSimulacion 1000\nSimulacion 1200\nSimulacion 1400\nSimulacion 1600\nSimulacion 1800\nSimulacion 2000\nCRE: SREATMSD\nSimulacion 200\nSimulacion 400\nSimulacion 600\nSimulacion 800\nSimulacion 1000\nSimulacion 1200\nSimulacion 1400\nSimulacion 1600\nSimulacion 1800\nSimulacion 2000\nCRE: SURE1STPAT21\nSimulacion 200\nSimulacion 400\nSimulacion 600\nSimulacion 800\nSimulacion 1000\nSimulacion 1200\nSimulacion 1400\nSimulacion 1600\nSimulacion 1800\nSimulacion 2000\nCRE: SURE2STPAT21\nSimulacion 200\nSimulacion 400\nSimulacion 600\nSimulacion 800\nSimulacion 1000\nSimulacion 1200\nSimulacion 1400\nSimulacion 1600\nSimulacion 1800\nSimulacion 2000\nCRE: IBOXCORENT\nSimulacion 200\nSimulacion 400\nSimulacion 600\nSimulacion 800\nSimulacion 1000\nSimulacion 1200\nSimulacion 1400\nSimulacion 1600\nSimulacion 1800\nSimulacion 2000\nCRE: Gbox\nSimulacion 200\nSimulacion 400\nSimulacion 600\nSimulacion 800\nSimulacion 1000\nSimulacion 1200\nSimulacion 1400\nSimulacion 1600\nSimulacion 1800\nSimulacion 2000\nCRE: GT1GMSCAM4\nSimulacion 200\nSimulacion 400\nSimulacion 600\nSimulacion 800\nSimulacion 1000\nSimulacion 1200\nSimulacion 1400\nSimulacion 1600\nSimulacion 1800\nSimulacion 2000\nCRE: ERE_GCCbox\nSimulacion 200\nSimulacion 400\nSimulacion 600\nSimulacion 800\nSimulacion 1000\nSimulacion 1200\nSimulacion 1400\nSimulacion 1600\nSimulacion 1800\nSimulacion 2000\n",
          "output_type": "stream"
        }
      ]
    },
    {
      "cell_type": "code",
      "source": [
        "elapsed # Get the elapsed time for the execution of the last chunk"
      ],
      "metadata": {
        "trusted": true,
        "id": "Q68x47W3EJfP",
        "outputId": "b8622148-b457-4bda-feef-3732b235d57d"
      },
      "execution_count": null,
      "outputs": [
        {
          "execution_count": 88,
          "output_type": "execute_result",
          "data": {
            "text/plain": "17895.332599999998"
          },
          "metadata": {}
        }
      ]
    },
    {
      "cell_type": "code",
      "source": [
        "print('Hours:', (elapsed / 60) / 60)"
      ],
      "metadata": {
        "trusted": true,
        "id": "J_8yqsBuEJfP",
        "outputId": "b1d2adc4-b506-409a-f5a0-1d167835e5e0"
      },
      "execution_count": null,
      "outputs": [
        {
          "name": "stdout",
          "text": "Hours: 4.970925722222222\n",
          "output_type": "stream"
        }
      ]
    },
    {
      "cell_type": "code",
      "source": [
        "len(vals2)"
      ],
      "metadata": {
        "trusted": true,
        "id": "2459MpRDEJfP",
        "outputId": "7a3fc1ad-f63b-41c6-f3ec-b4e22f0c1bbb"
      },
      "execution_count": null,
      "outputs": [
        {
          "execution_count": 90,
          "output_type": "execute_result",
          "data": {
            "text/plain": "43"
          },
          "metadata": {}
        }
      ]
    },
    {
      "cell_type": "markdown",
      "source": [
        "&nbsp;"
      ],
      "metadata": {
        "id": "nmcYvKzmEJfQ"
      }
    },
    {
      "cell_type": "markdown",
      "source": [
        "To save a list to a file locally in Python, you can use the built-in `pickle`"
      ],
      "metadata": {
        "id": "9tyYFfy9EJfQ"
      }
    },
    {
      "cell_type": "code",
      "source": [
        "import pickle\n",
        "\n",
        "# Save the list to a file\n",
        "with open('vals2.pkl', 'wb') as f:\n",
        "    pickle.dump(vals2, f)"
      ],
      "metadata": {
        "trusted": true,
        "id": "AsUBTU6cEJfQ"
      },
      "execution_count": null,
      "outputs": []
    },
    {
      "cell_type": "code",
      "source": [
        "import os\n",
        "os.listdir()"
      ],
      "metadata": {
        "trusted": true,
        "id": "ce_t2wy-EJfQ",
        "outputId": "537cb91c-0a0c-4c12-ec1b-410c8cc02343"
      },
      "execution_count": null,
      "outputs": [
        {
          "execution_count": 95,
          "output_type": "execute_result",
          "data": {
            "text/plain": "['CREs.py', 'mads_promoters.fasta', 'vals2.pkl']"
          },
          "metadata": {}
        }
      ]
    },
    {
      "cell_type": "markdown",
      "source": [
        "To load the list from the file, you can use the following code:"
      ],
      "metadata": {
        "id": "4uqPttUjEJfQ"
      }
    },
    {
      "cell_type": "code",
      "source": [
        "# Load the list from the file\n",
        "with open('vals2.pkl', 'rb') as f:\n",
        "    my_list = pickle.load(f)\n",
        "\n",
        "print(my_list)"
      ],
      "metadata": {
        "id": "BKhA33JaEJfQ"
      },
      "execution_count": null,
      "outputs": []
    },
    {
      "cell_type": "markdown",
      "source": [
        "&nbsp;"
      ],
      "metadata": {
        "id": "ebDnV6-rEJfR"
      }
    },
    {
      "cell_type": "markdown",
      "source": [
        "Combine Observed & Expected data"
      ],
      "metadata": {
        "id": "XZk_uiB-EJfR"
      }
    },
    {
      "cell_type": "code",
      "source": [
        "col1 = []\n",
        "col2 = []\n",
        "for t in CREs.all :\n",
        "    CRE = t\n",
        "    a,b = search(CRE,genome)\n",
        "    occurr = 0\n",
        "    for m in b:\n",
        "        occurr +=len(m)\n",
        "    col1.append(len(set(a)))\n",
        "    col2.append(occurr)"
      ],
      "metadata": {
        "trusted": true,
        "id": "QMSHXoyqEJfR"
      },
      "execution_count": null,
      "outputs": []
    },
    {
      "cell_type": "code",
      "source": [
        "import pandas as pd\n",
        "\n",
        "# Create the dataframe\n",
        "data = {'Total_query': [len(genome)]*len(CREs.all),\n",
        "        'Observed_promoters': col1,\n",
        "        'Observed_occurr': col2,\n",
        "        'Expected_promoters': vals2}\n",
        "df = pd.DataFrame(data)\n",
        "\n",
        "# Create a new column that is the ratio of x and y\n",
        "df['Enrichment'] = round(df['Observed_promoters'] / df['Expected_promoters'],2)\n",
        "\n",
        "# Export the dataframe to a CSV file\n",
        "# df.to_csv('my_dataframe.csv', index=False)\n"
      ],
      "metadata": {
        "trusted": true,
        "id": "yKEqjoAWEJfR"
      },
      "execution_count": null,
      "outputs": []
    },
    {
      "cell_type": "code",
      "source": [
        "df"
      ],
      "metadata": {
        "trusted": true,
        "id": "qvOc_Tf5EJfR",
        "outputId": "39263941-72c0-4c77-dd3e-5ed30335a634"
      },
      "execution_count": null,
      "outputs": [
        {
          "execution_count": 98,
          "output_type": "execute_result",
          "data": {
            "text/plain": "    Total_query  Observed_promoters  Observed_occurr  Expected_promoters  \\\n0            34                  27               48              27.997   \n1            34                   2                2               1.910   \n2            34                   4                4               2.547   \n3            34                   9               17               5.179   \n4            34                   2                2               0.717   \n5            34                   0                0               2.100   \n6            34                   2                2               1.947   \n7            34                  24               39              24.672   \n8            34                   1                1               0.775   \n9            34                  24               47              24.614   \n10           34                  32               96              24.395   \n11           34                   9               11              12.486   \n12           34                  29               72              24.557   \n13           34                  34              414              33.998   \n14           34                  34              374              34.000   \n15           34                  26               53              24.680   \n16           34                  33              263              33.971   \n17           34                  34              149              32.968   \n18           34                  34              240              33.999   \n19           34                  34              226              33.999   \n20           34                  33              186              33.136   \n21           34                  32              106              32.972   \n22           34                  34              337              34.000   \n23           34                   4                4               7.135   \n24           34                  22               36              24.533   \n25           34                  21               30              24.617   \n26           34                   4                4               6.846   \n27           34                  27               48              27.997   \n28           34                   6                6               5.161   \n29           34                   9               12              12.942   \n30           34                   0                0               0.735   \n31           34                   3                3               1.925   \n32           34                   6                6               5.247   \n33           34                   1                1               0.722   \n34           34                   8                9               4.941   \n35           34                   8                8               5.303   \n36           34                  11               13              12.823   \n37           34                   2                2               2.260   \n38           34                   0                0               2.250   \n39           34                   9               10               7.186   \n40           34                   7                8               5.256   \n41           34                  32               82              25.277   \n42           34                   0                0               0.108   \n\n    Enrichment  \n0         0.96  \n1         1.05  \n2         1.57  \n3         1.74  \n4         2.79  \n5         0.00  \n6         1.03  \n7         0.97  \n8         1.29  \n9         0.98  \n10        1.31  \n11        0.72  \n12        1.18  \n13        1.00  \n14        1.00  \n15        1.05  \n16        0.97  \n17        1.03  \n18        1.00  \n19        1.00  \n20        1.00  \n21        0.97  \n22        1.00  \n23        0.56  \n24        0.90  \n25        0.85  \n26        0.58  \n27        0.96  \n28        1.16  \n29        0.70  \n30        0.00  \n31        1.56  \n32        1.14  \n33        1.39  \n34        1.62  \n35        1.51  \n36        0.86  \n37        0.88  \n38        0.00  \n39        1.25  \n40        1.33  \n41        1.27  \n42        0.00  ",
            "text/html": "<div>\n<style scoped>\n    .dataframe tbody tr th:only-of-type {\n        vertical-align: middle;\n    }\n\n    .dataframe tbody tr th {\n        vertical-align: top;\n    }\n\n    .dataframe thead th {\n        text-align: right;\n    }\n</style>\n<table border=\"1\" class=\"dataframe\">\n  <thead>\n    <tr style=\"text-align: right;\">\n      <th></th>\n      <th>Total_query</th>\n      <th>Observed_promoters</th>\n      <th>Observed_occurr</th>\n      <th>Expected_promoters</th>\n      <th>Enrichment</th>\n    </tr>\n  </thead>\n  <tbody>\n    <tr>\n      <th>0</th>\n      <td>34</td>\n      <td>27</td>\n      <td>48</td>\n      <td>27.997</td>\n      <td>0.96</td>\n    </tr>\n    <tr>\n      <th>1</th>\n      <td>34</td>\n      <td>2</td>\n      <td>2</td>\n      <td>1.910</td>\n      <td>1.05</td>\n    </tr>\n    <tr>\n      <th>2</th>\n      <td>34</td>\n      <td>4</td>\n      <td>4</td>\n      <td>2.547</td>\n      <td>1.57</td>\n    </tr>\n    <tr>\n      <th>3</th>\n      <td>34</td>\n      <td>9</td>\n      <td>17</td>\n      <td>5.179</td>\n      <td>1.74</td>\n    </tr>\n    <tr>\n      <th>4</th>\n      <td>34</td>\n      <td>2</td>\n      <td>2</td>\n      <td>0.717</td>\n      <td>2.79</td>\n    </tr>\n    <tr>\n      <th>5</th>\n      <td>34</td>\n      <td>0</td>\n      <td>0</td>\n      <td>2.100</td>\n      <td>0.00</td>\n    </tr>\n    <tr>\n      <th>6</th>\n      <td>34</td>\n      <td>2</td>\n      <td>2</td>\n      <td>1.947</td>\n      <td>1.03</td>\n    </tr>\n    <tr>\n      <th>7</th>\n      <td>34</td>\n      <td>24</td>\n      <td>39</td>\n      <td>24.672</td>\n      <td>0.97</td>\n    </tr>\n    <tr>\n      <th>8</th>\n      <td>34</td>\n      <td>1</td>\n      <td>1</td>\n      <td>0.775</td>\n      <td>1.29</td>\n    </tr>\n    <tr>\n      <th>9</th>\n      <td>34</td>\n      <td>24</td>\n      <td>47</td>\n      <td>24.614</td>\n      <td>0.98</td>\n    </tr>\n    <tr>\n      <th>10</th>\n      <td>34</td>\n      <td>32</td>\n      <td>96</td>\n      <td>24.395</td>\n      <td>1.31</td>\n    </tr>\n    <tr>\n      <th>11</th>\n      <td>34</td>\n      <td>9</td>\n      <td>11</td>\n      <td>12.486</td>\n      <td>0.72</td>\n    </tr>\n    <tr>\n      <th>12</th>\n      <td>34</td>\n      <td>29</td>\n      <td>72</td>\n      <td>24.557</td>\n      <td>1.18</td>\n    </tr>\n    <tr>\n      <th>13</th>\n      <td>34</td>\n      <td>34</td>\n      <td>414</td>\n      <td>33.998</td>\n      <td>1.00</td>\n    </tr>\n    <tr>\n      <th>14</th>\n      <td>34</td>\n      <td>34</td>\n      <td>374</td>\n      <td>34.000</td>\n      <td>1.00</td>\n    </tr>\n    <tr>\n      <th>15</th>\n      <td>34</td>\n      <td>26</td>\n      <td>53</td>\n      <td>24.680</td>\n      <td>1.05</td>\n    </tr>\n    <tr>\n      <th>16</th>\n      <td>34</td>\n      <td>33</td>\n      <td>263</td>\n      <td>33.971</td>\n      <td>0.97</td>\n    </tr>\n    <tr>\n      <th>17</th>\n      <td>34</td>\n      <td>34</td>\n      <td>149</td>\n      <td>32.968</td>\n      <td>1.03</td>\n    </tr>\n    <tr>\n      <th>18</th>\n      <td>34</td>\n      <td>34</td>\n      <td>240</td>\n      <td>33.999</td>\n      <td>1.00</td>\n    </tr>\n    <tr>\n      <th>19</th>\n      <td>34</td>\n      <td>34</td>\n      <td>226</td>\n      <td>33.999</td>\n      <td>1.00</td>\n    </tr>\n    <tr>\n      <th>20</th>\n      <td>34</td>\n      <td>33</td>\n      <td>186</td>\n      <td>33.136</td>\n      <td>1.00</td>\n    </tr>\n    <tr>\n      <th>21</th>\n      <td>34</td>\n      <td>32</td>\n      <td>106</td>\n      <td>32.972</td>\n      <td>0.97</td>\n    </tr>\n    <tr>\n      <th>22</th>\n      <td>34</td>\n      <td>34</td>\n      <td>337</td>\n      <td>34.000</td>\n      <td>1.00</td>\n    </tr>\n    <tr>\n      <th>23</th>\n      <td>34</td>\n      <td>4</td>\n      <td>4</td>\n      <td>7.135</td>\n      <td>0.56</td>\n    </tr>\n    <tr>\n      <th>24</th>\n      <td>34</td>\n      <td>22</td>\n      <td>36</td>\n      <td>24.533</td>\n      <td>0.90</td>\n    </tr>\n    <tr>\n      <th>25</th>\n      <td>34</td>\n      <td>21</td>\n      <td>30</td>\n      <td>24.617</td>\n      <td>0.85</td>\n    </tr>\n    <tr>\n      <th>26</th>\n      <td>34</td>\n      <td>4</td>\n      <td>4</td>\n      <td>6.846</td>\n      <td>0.58</td>\n    </tr>\n    <tr>\n      <th>27</th>\n      <td>34</td>\n      <td>27</td>\n      <td>48</td>\n      <td>27.997</td>\n      <td>0.96</td>\n    </tr>\n    <tr>\n      <th>28</th>\n      <td>34</td>\n      <td>6</td>\n      <td>6</td>\n      <td>5.161</td>\n      <td>1.16</td>\n    </tr>\n    <tr>\n      <th>29</th>\n      <td>34</td>\n      <td>9</td>\n      <td>12</td>\n      <td>12.942</td>\n      <td>0.70</td>\n    </tr>\n    <tr>\n      <th>30</th>\n      <td>34</td>\n      <td>0</td>\n      <td>0</td>\n      <td>0.735</td>\n      <td>0.00</td>\n    </tr>\n    <tr>\n      <th>31</th>\n      <td>34</td>\n      <td>3</td>\n      <td>3</td>\n      <td>1.925</td>\n      <td>1.56</td>\n    </tr>\n    <tr>\n      <th>32</th>\n      <td>34</td>\n      <td>6</td>\n      <td>6</td>\n      <td>5.247</td>\n      <td>1.14</td>\n    </tr>\n    <tr>\n      <th>33</th>\n      <td>34</td>\n      <td>1</td>\n      <td>1</td>\n      <td>0.722</td>\n      <td>1.39</td>\n    </tr>\n    <tr>\n      <th>34</th>\n      <td>34</td>\n      <td>8</td>\n      <td>9</td>\n      <td>4.941</td>\n      <td>1.62</td>\n    </tr>\n    <tr>\n      <th>35</th>\n      <td>34</td>\n      <td>8</td>\n      <td>8</td>\n      <td>5.303</td>\n      <td>1.51</td>\n    </tr>\n    <tr>\n      <th>36</th>\n      <td>34</td>\n      <td>11</td>\n      <td>13</td>\n      <td>12.823</td>\n      <td>0.86</td>\n    </tr>\n    <tr>\n      <th>37</th>\n      <td>34</td>\n      <td>2</td>\n      <td>2</td>\n      <td>2.260</td>\n      <td>0.88</td>\n    </tr>\n    <tr>\n      <th>38</th>\n      <td>34</td>\n      <td>0</td>\n      <td>0</td>\n      <td>2.250</td>\n      <td>0.00</td>\n    </tr>\n    <tr>\n      <th>39</th>\n      <td>34</td>\n      <td>9</td>\n      <td>10</td>\n      <td>7.186</td>\n      <td>1.25</td>\n    </tr>\n    <tr>\n      <th>40</th>\n      <td>34</td>\n      <td>7</td>\n      <td>8</td>\n      <td>5.256</td>\n      <td>1.33</td>\n    </tr>\n    <tr>\n      <th>41</th>\n      <td>34</td>\n      <td>32</td>\n      <td>82</td>\n      <td>25.277</td>\n      <td>1.27</td>\n    </tr>\n    <tr>\n      <th>42</th>\n      <td>34</td>\n      <td>0</td>\n      <td>0</td>\n      <td>0.108</td>\n      <td>0.00</td>\n    </tr>\n  </tbody>\n</table>\n</div>"
          },
          "metadata": {}
        }
      ]
    },
    {
      "cell_type": "code",
      "source": [
        "# Filter the DataFrame to include only rows where 'B' > 20\n",
        "df_filtered = df[df['Enrichment'] > 1.5]\n",
        "df_filtered"
      ],
      "metadata": {
        "trusted": true,
        "id": "b36OLo4WEJfR",
        "outputId": "7c96521f-dc64-439b-dde3-763de8b62a39"
      },
      "execution_count": null,
      "outputs": [
        {
          "execution_count": 99,
          "output_type": "execute_result",
          "data": {
            "text/plain": "    Total_query  Observed_promoters  Observed_occurr  Expected_promoters  \\\n2            34                   4                4               2.547   \n3            34                   9               17               5.179   \n4            34                   2                2               0.717   \n31           34                   3                3               1.925   \n34           34                   8                9               4.941   \n35           34                   8                8               5.303   \n\n    Enrichment  \n2         1.57  \n3         1.74  \n4         2.79  \n31        1.56  \n34        1.62  \n35        1.51  ",
            "text/html": "<div>\n<style scoped>\n    .dataframe tbody tr th:only-of-type {\n        vertical-align: middle;\n    }\n\n    .dataframe tbody tr th {\n        vertical-align: top;\n    }\n\n    .dataframe thead th {\n        text-align: right;\n    }\n</style>\n<table border=\"1\" class=\"dataframe\">\n  <thead>\n    <tr style=\"text-align: right;\">\n      <th></th>\n      <th>Total_query</th>\n      <th>Observed_promoters</th>\n      <th>Observed_occurr</th>\n      <th>Expected_promoters</th>\n      <th>Enrichment</th>\n    </tr>\n  </thead>\n  <tbody>\n    <tr>\n      <th>2</th>\n      <td>34</td>\n      <td>4</td>\n      <td>4</td>\n      <td>2.547</td>\n      <td>1.57</td>\n    </tr>\n    <tr>\n      <th>3</th>\n      <td>34</td>\n      <td>9</td>\n      <td>17</td>\n      <td>5.179</td>\n      <td>1.74</td>\n    </tr>\n    <tr>\n      <th>4</th>\n      <td>34</td>\n      <td>2</td>\n      <td>2</td>\n      <td>0.717</td>\n      <td>2.79</td>\n    </tr>\n    <tr>\n      <th>31</th>\n      <td>34</td>\n      <td>3</td>\n      <td>3</td>\n      <td>1.925</td>\n      <td>1.56</td>\n    </tr>\n    <tr>\n      <th>34</th>\n      <td>34</td>\n      <td>8</td>\n      <td>9</td>\n      <td>4.941</td>\n      <td>1.62</td>\n    </tr>\n    <tr>\n      <th>35</th>\n      <td>34</td>\n      <td>8</td>\n      <td>8</td>\n      <td>5.303</td>\n      <td>1.51</td>\n    </tr>\n  </tbody>\n</table>\n</div>"
          },
          "metadata": {}
        }
      ]
    },
    {
      "cell_type": "markdown",
      "source": [
        "&nbsp;"
      ],
      "metadata": {
        "id": "swKiKDl6EJfS"
      }
    },
    {
      "cell_type": "markdown",
      "source": [
        "# Estimate the *P*-value for the outcome"
      ],
      "metadata": {
        "tags": [],
        "id": "SJHZc6FkEJfS"
      }
    },
    {
      "cell_type": "markdown",
      "source": [
        "#### Enriched CREs : name & motives :"
      ],
      "metadata": {
        "id": "zArxruqSEJfS"
      }
    },
    {
      "cell_type": "code",
      "source": [
        "# Print the index of the DataFrame\n",
        "print(df_filtered.index)\n",
        "\n",
        "# Convert the index to a list\n",
        "index_list = df_filtered.index.tolist()\n",
        "print(index_list)"
      ],
      "metadata": {
        "trusted": true,
        "id": "axyS7cNsEJfS",
        "outputId": "293171f8-da39-4cea-e126-4aac6b505936"
      },
      "execution_count": null,
      "outputs": [
        {
          "name": "stdout",
          "text": "Int64Index([2, 3, 4, 31, 34, 35], dtype='int64')\n[2, 3, 4, 31, 34, 35]\n",
          "output_type": "stream"
        }
      ]
    },
    {
      "cell_type": "code",
      "source": [
        "for i in index_list :\n",
        "    print(CREs.get_list_name_by_index(index=i, list_of_lists=CREs.all))"
      ],
      "metadata": {
        "trusted": true,
        "id": "NhN8_VulEJfS",
        "outputId": "d9fadc79-4b2d-4923-ff86-6ec4c52fcd01"
      },
      "execution_count": null,
      "outputs": [
        {
          "name": "stdout",
          "text": "DRE\nCAMTA\nABRE\nDRE2COREZMRAB17\nLTRECOREATCOR15\nMYCATERD1\n",
          "output_type": "stream"
        }
      ]
    },
    {
      "cell_type": "code",
      "source": [
        "for i in index_list:\n",
        "    print(CREs.all[i])"
      ],
      "metadata": {
        "trusted": true,
        "id": "a5fNvVhiEJfT",
        "outputId": "7249468c-50ca-4b5e-a51a-290f968d2c2a"
      },
      "execution_count": null,
      "outputs": [
        {
          "name": "stdout",
          "text": "['GCCGAC', 'ACCGAC']\n['ACGCGC', 'ACGCGG', 'ACGCGT', 'CCGCGC', 'CCGCGG', 'CCGCGT', 'GCGCGC', 'GCGCGG', 'GCGCGT']\n['ACGTGTC']\n['ACCGAC']\n['CCGAC']\n['CATGTG']\n",
          "output_type": "stream"
        }
      ]
    },
    {
      "cell_type": "markdown",
      "source": [
        "&nbsp;"
      ],
      "metadata": {
        "id": "sGZPlL8_EJfT"
      }
    },
    {
      "cell_type": "markdown",
      "source": [
        "### Define functions"
      ],
      "metadata": {
        "tags": [],
        "id": "_sZ1VcT-EJfT"
      }
    },
    {
      "cell_type": "code",
      "source": [
        "def getTarget(CRE, bp, goal):\n",
        "\n",
        "    ''' Get the number of promoter data set needed (goal) to find at least 1 CRE per promoter.\n",
        "\n",
        "    bp = promoter length\n",
        "    goal = number of promoters with at least 1 motif '''\n",
        "\n",
        "    numSuccess = 0\n",
        "    numTries = 0\n",
        "    count = 0\n",
        "    while numSuccess < goal :\n",
        "        promotor = getPromoter(bp)\n",
        "        numTries +=1\n",
        "\n",
        "        for m in CRE :\n",
        "            if m in promotor :\n",
        "                count += 1\n",
        "                if count >= goal :\n",
        "                    numSuccess= numTries\n",
        "\n",
        "    return numSuccess"
      ],
      "metadata": {
        "trusted": true,
        "id": "vrrNkPKoEJfT"
      },
      "execution_count": null,
      "outputs": []
    },
    {
      "cell_type": "code",
      "source": [
        "def runSim_P(CRE, bp, goal,numTrials):\n",
        "    '''bp: promoter bases (1500)\n",
        "    goal (float) : number of times looking for a specific motif\n",
        "    numTrial : number of simulations (2000)'''\n",
        "    #val = [] # To have the account of the accumulated value\n",
        "    total = 0\n",
        "\n",
        "    for i in range(1,numTrials+1):\n",
        "        if i%200==0 :\n",
        "            print('Sim.',i,'...',round(total/float(i),2))\n",
        "        total += getTarget(CRE, bp, goal)\n",
        "    #    val.append(total/float(i))\n",
        "\n",
        "\n",
        "    #print val\n",
        "    print('Average number of tries =', total/float(numTrials))\n",
        "    print('P-value=',1/(total/float(numTrials)))\n",
        "    print('')"
      ],
      "metadata": {
        "trusted": true,
        "id": "f9X8WKwGEJfT"
      },
      "execution_count": null,
      "outputs": []
    },
    {
      "cell_type": "code",
      "source": [
        "def runSim_Pplot(CRE, bp, goal,numTrials):\n",
        "    '''bp: promoter bases (1500)\n",
        "    goal (float) :number of times looking for a specific motif\n",
        "    numTrial : number of simulations (2000)'''\n",
        "    val = [] # Keep track of average number of tries to achieve the goal\n",
        "    total = 0\n",
        "\n",
        "    for i in range(1,numTrials+1):\n",
        "        total += getTarget(CRE, bp, goal)\n",
        "        val.append(total/float(i))\n",
        "\n",
        "    return val"
      ],
      "metadata": {
        "trusted": true,
        "id": "0lZIDYSNEJfT"
      },
      "execution_count": null,
      "outputs": []
    },
    {
      "cell_type": "markdown",
      "source": [
        "### Example"
      ],
      "metadata": {
        "id": "dZuvva76EJfU"
      }
    },
    {
      "cell_type": "code",
      "source": [
        "df_filtered.iloc[:1, :]"
      ],
      "metadata": {
        "trusted": true,
        "id": "OQVuow53EJfU",
        "outputId": "f80cae5c-9a63-4a05-e9a1-4dee27245700"
      },
      "execution_count": null,
      "outputs": [
        {
          "execution_count": 110,
          "output_type": "execute_result",
          "data": {
            "text/plain": "   Total_query  Observed_promoters  Observed_occurr  Expected_promoters  \\\n2           34                   4                4               2.547   \n\n   Enrichment  \n2        1.57  ",
            "text/html": "<div>\n<style scoped>\n    .dataframe tbody tr th:only-of-type {\n        vertical-align: middle;\n    }\n\n    .dataframe tbody tr th {\n        vertical-align: top;\n    }\n\n    .dataframe thead th {\n        text-align: right;\n    }\n</style>\n<table border=\"1\" class=\"dataframe\">\n  <thead>\n    <tr style=\"text-align: right;\">\n      <th></th>\n      <th>Total_query</th>\n      <th>Observed_promoters</th>\n      <th>Observed_occurr</th>\n      <th>Expected_promoters</th>\n      <th>Enrichment</th>\n    </tr>\n  </thead>\n  <tbody>\n    <tr>\n      <th>2</th>\n      <td>34</td>\n      <td>4</td>\n      <td>4</td>\n      <td>2.547</td>\n      <td>1.57</td>\n    </tr>\n  </tbody>\n</table>\n</div>"
          },
          "metadata": {}
        }
      ]
    },
    {
      "cell_type": "code",
      "source": [
        "CREs.get_list_name_by_index(index=2, list_of_lists=CREs.all)"
      ],
      "metadata": {
        "trusted": true,
        "id": "UTJ2VzQVEJfU",
        "outputId": "1223eef0-adc3-42e6-97df-53771ee02f6a"
      },
      "execution_count": null,
      "outputs": [
        {
          "execution_count": 111,
          "output_type": "execute_result",
          "data": {
            "text/plain": "'DRE'"
          },
          "metadata": {}
        }
      ]
    },
    {
      "cell_type": "markdown",
      "source": [
        "Example : how many times do we need to generate 1500bp promoters randomly to find 4 promoters ('observed_promoters') with at least 1 DRE (CREs.all[2]) ?"
      ],
      "metadata": {
        "id": "u5MMNqB4EJfU"
      }
    },
    {
      "cell_type": "code",
      "source": [
        "random.seed(25)\n",
        "goal = 4\n",
        "getTarget(CREs.DRE,1500,goal)"
      ],
      "metadata": {
        "trusted": true,
        "id": "cHQTD7rQEJfU",
        "outputId": "69e882fe-6391-4d7a-981f-86b1db71c11a"
      },
      "execution_count": null,
      "outputs": [
        {
          "execution_count": 117,
          "output_type": "execute_result",
          "data": {
            "text/plain": "52"
          },
          "metadata": {}
        }
      ]
    },
    {
      "cell_type": "markdown",
      "source": [
        "&nbsp;"
      ],
      "metadata": {
        "id": "VVlHg9feEJfU"
      }
    },
    {
      "cell_type": "markdown",
      "source": [
        "Instead of doing this step once, we run the function `getTarget` as many times as we want to simulate and we see how the result changes. (Example, DRE goes from 52 to 51.879)\n"
      ],
      "metadata": {
        "id": "GkxrLoIVEJfV"
      }
    },
    {
      "cell_type": "markdown",
      "source": [
        "`runSim_P` is just for looking on screen ; to work with data use `runSim_Pplot`. `runSimP` is used to calculate the P value."
      ],
      "metadata": {
        "id": "Xs1Hm6kUEJfV"
      }
    },
    {
      "cell_type": "code",
      "source": [
        "random.seed(25)\n",
        "CRE = CREs.DRE\n",
        "goal = 4\n",
        "mc = 2000\n",
        "runSim_P(CRE,1500,goal,mc)"
      ],
      "metadata": {
        "trusted": true,
        "id": "hKDYtUIpEJfV",
        "outputId": "4ebc9ece-59bb-4922-9a45-31096184fe45"
      },
      "execution_count": null,
      "outputs": [
        {
          "name": "stdout",
          "text": "Sim. 200 ... 54.59\nSim. 400 ... 52.97\nSim. 600 ... 53.15\nSim. 800 ... 53.11\nSim. 1000 ... 53.02\nSim. 1200 ... 52.99\nSim. 1400 ... 52.57\nSim. 1600 ... 52.05\nSim. 1800 ... 52.04\nSim. 2000 ... 51.87\nAverage number of tries = 51.879\nP-value= 0.019275622120703946\n\n",
          "output_type": "stream"
        }
      ]
    },
    {
      "cell_type": "markdown",
      "source": [
        "With `runSim_Pplot`we create the graphical representation of the simulation for a specific CRE:"
      ],
      "metadata": {
        "id": "gV2FIQxlEJfV"
      }
    },
    {
      "cell_type": "code",
      "source": [
        "random.seed(25)\n",
        "CRE = CREs.DRE\n",
        "goal = 4\n",
        "mc = 2000\n",
        "valsDRE = runSim_Pplot(CRE,1500,goal,mc)"
      ],
      "metadata": {
        "trusted": true,
        "id": "xPf6q9g2EJfV"
      },
      "execution_count": null,
      "outputs": []
    },
    {
      "cell_type": "code",
      "source": [
        "%matplotlib inline\n",
        "import pylab\n",
        "numTrials = mc\n",
        "yAxis = valsDRE\n",
        "xAxis = range(1,numTrials+1)\n",
        "pylab.xlabel('N. Simulations')\n",
        "pylab.ylabel('N. Sequences occurring 1 CRE')\n",
        "pylab.plot(xAxis, yAxis, color = \"red\")\n",
        "pylab.show()"
      ],
      "metadata": {
        "trusted": true,
        "id": "fTeAQBanEJfV",
        "outputId": "3c6f90d9-0b44-4191-c496-39d7f6dafea0"
      },
      "execution_count": null,
      "outputs": [
        {
          "output_type": "display_data",
          "data": {
            "text/plain": "<Figure size 640x480 with 1 Axes>",
            "image/png": "[encoded data removed]"
          },
          "metadata": {}
        }
      ]
    },
    {
      "cell_type": "code",
      "source": [
        "valsDRE[-1]"
      ],
      "metadata": {
        "trusted": true,
        "id": "515VPPE3EJfV",
        "outputId": "30ad0e4c-c118-4262-8e48-9bd869400da1"
      },
      "execution_count": null,
      "outputs": [
        {
          "execution_count": 115,
          "output_type": "execute_result",
          "data": {
            "text/plain": "51.879"
          },
          "metadata": {}
        }
      ]
    },
    {
      "cell_type": "markdown",
      "source": [
        "&nbsp;"
      ],
      "metadata": {
        "id": "QfDtUxYPEJfW"
      }
    },
    {
      "cell_type": "markdown",
      "source": [
        "Now we do the same programmatically for all the candidate motives to be enriched. We need to call the function runSim_P() giving as an argument the number of motives found in the promoter set for each case."
      ],
      "metadata": {
        "id": "nOdNTozEEJfW"
      }
    },
    {
      "cell_type": "code",
      "source": [
        "df_filtered"
      ],
      "metadata": {
        "tags": [],
        "trusted": true,
        "id": "OQdb5ZzqEJfW",
        "outputId": "ed5cbdee-858b-49b8-8434-f367951ee246"
      },
      "execution_count": null,
      "outputs": [
        {
          "execution_count": 116,
          "output_type": "execute_result",
          "data": {
            "text/plain": "    Total_query  Observed_promoters  Observed_occurr  Expected_promoters  \\\n2            34                   4                4               2.547   \n3            34                   9               17               5.179   \n4            34                   2                2               0.717   \n31           34                   3                3               1.925   \n34           34                   8                9               4.941   \n35           34                   8                8               5.303   \n\n    Enrichment  \n2         1.57  \n3         1.74  \n4         2.79  \n31        1.56  \n34        1.62  \n35        1.51  ",
            "text/html": "<div>\n<style scoped>\n    .dataframe tbody tr th:only-of-type {\n        vertical-align: middle;\n    }\n\n    .dataframe tbody tr th {\n        vertical-align: top;\n    }\n\n    .dataframe thead th {\n        text-align: right;\n    }\n</style>\n<table border=\"1\" class=\"dataframe\">\n  <thead>\n    <tr style=\"text-align: right;\">\n      <th></th>\n      <th>Total_query</th>\n      <th>Observed_promoters</th>\n      <th>Observed_occurr</th>\n      <th>Expected_promoters</th>\n      <th>Enrichment</th>\n    </tr>\n  </thead>\n  <tbody>\n    <tr>\n      <th>2</th>\n      <td>34</td>\n      <td>4</td>\n      <td>4</td>\n      <td>2.547</td>\n      <td>1.57</td>\n    </tr>\n    <tr>\n      <th>3</th>\n      <td>34</td>\n      <td>9</td>\n      <td>17</td>\n      <td>5.179</td>\n      <td>1.74</td>\n    </tr>\n    <tr>\n      <th>4</th>\n      <td>34</td>\n      <td>2</td>\n      <td>2</td>\n      <td>0.717</td>\n      <td>2.79</td>\n    </tr>\n    <tr>\n      <th>31</th>\n      <td>34</td>\n      <td>3</td>\n      <td>3</td>\n      <td>1.925</td>\n      <td>1.56</td>\n    </tr>\n    <tr>\n      <th>34</th>\n      <td>34</td>\n      <td>8</td>\n      <td>9</td>\n      <td>4.941</td>\n      <td>1.62</td>\n    </tr>\n    <tr>\n      <th>35</th>\n      <td>34</td>\n      <td>8</td>\n      <td>8</td>\n      <td>5.303</td>\n      <td>1.51</td>\n    </tr>\n  </tbody>\n</table>\n</div>"
          },
          "metadata": {}
        }
      ]
    },
    {
      "cell_type": "code",
      "source": [
        "import timeit\n",
        "start_time = timeit.default_timer()\n",
        "\n",
        "import random\n",
        "random.seed(25)\n",
        "mc = 2000\n",
        "runSim_P(CREs.all[3], 1500, 9, mc)\n",
        "runSim_P(CREs.all[4], 1500, 2, mc)\n",
        "runSim_P(CREs.all[31],1500, 3, mc)\n",
        "runSim_P(CREs.all[34],1500, 8, mc)\n",
        "runSim_P(CREs.all[35],1500, 8, mc)\n",
        "\n",
        "elapsed = timeit.default_timer() - start_time"
      ],
      "metadata": {
        "trusted": true,
        "id": "EJ1nUpBrEJfW",
        "outputId": "2d05c621-1f9d-4ad3-bf92-2bc73ab01f28"
      },
      "execution_count": null,
      "outputs": [
        {
          "name": "stdout",
          "text": "Sim. 200 ... 52.73\nSim. 400 ... 52.3\nSim. 600 ... 53.45\nSim. 800 ... 53.88\nSim. 1000 ... 54.73\nSim. 1200 ... 54.95\nSim. 1400 ... 55.26\nSim. 1600 ... 54.98\nSim. 1800 ... 54.96\nSim. 2000 ... 54.86\nAverage number of tries = 54.893\nP-value= 0.018217259031206166\n\nSim. 200 ... 98.22\nSim. 400 ... 95.22\nSim. 600 ... 93.89\nSim. 800 ... 92.72\nSim. 1000 ... 92.26\nSim. 1200 ... 92.6\nSim. 1400 ... 92.51\nSim. 1600 ... 92.58\nSim. 1800 ... 92.15\nSim. 2000 ... 92.6\nAverage number of tries = 92.6375\nP-value= 0.010794764539198488\n\nSim. 200 ... 56.17\nSim. 400 ... 56.97\nSim. 600 ... 55.11\nSim. 800 ... 54.66\nSim. 1000 ... 54.09\nSim. 1200 ... 54.04\nSim. 1400 ... 53.87\nSim. 1600 ... 53.66\nSim. 1800 ... 53.87\nSim. 2000 ... 53.76\nAverage number of tries = 53.7795\nP-value= 0.018594445839027883\n\nSim. 200 ... 53.76\nSim. 400 ... 54.3\nSim. 600 ... 54.9\nSim. 800 ... 54.39\nSim. 1000 ... 54.31\nSim. 1200 ... 54.74\nSim. 1400 ... 54.34\nSim. 1600 ... 54.19\nSim. 1800 ... 54.07\nSim. 2000 ... 54.13\nAverage number of tries = 54.1555\nP-value= 0.018465345163464465\n\nSim. 200 ... 53.55\nSim. 400 ... 53.23\nSim. 600 ... 52.03\nSim. 800 ... 52.44\nSim. 1000 ... 52.45\nSim. 1200 ... 52.48\nSim. 1400 ... 52.64\nSim. 1600 ... 52.54\nSim. 1800 ... 52.52\nSim. 2000 ... 52.56\nAverage number of tries = 52.575\nP-value= 0.019020446980504042\n\n",
          "output_type": "stream"
        }
      ]
    },
    {
      "cell_type": "code",
      "source": [
        "print('Minutes:', elapsed / 60)"
      ],
      "metadata": {
        "trusted": true,
        "id": "5dDtIAnsEJfW",
        "outputId": "044f3fcb-b18e-4f18-d4d7-c41ce91adac7"
      },
      "execution_count": null,
      "outputs": [
        {
          "name": "stdout",
          "text": "Minutes: 59.74660333333334\n",
          "output_type": "stream"
        }
      ]
    },
    {
      "cell_type": "code",
      "source": [
        "df_filtered"
      ],
      "metadata": {
        "trusted": true,
        "id": "ER30qJ8rEJfX",
        "outputId": "2111af45-e3f7-4424-a50a-175e6ccfab7e"
      },
      "execution_count": null,
      "outputs": [
        {
          "execution_count": 118,
          "output_type": "execute_result",
          "data": {
            "text/plain": "    Total_query  Observed_promoters  Observed_occurr  Expected_promoters  \\\n2            34                   4                4               2.547   \n3            34                   9               17               5.179   \n4            34                   2                2               0.717   \n31           34                   3                3               1.925   \n34           34                   8                9               4.941   \n35           34                   8                8               5.303   \n\n    Enrichment  \n2         1.57  \n3         1.74  \n4         2.79  \n31        1.56  \n34        1.62  \n35        1.51  ",
            "text/html": "<div>\n<style scoped>\n    .dataframe tbody tr th:only-of-type {\n        vertical-align: middle;\n    }\n\n    .dataframe tbody tr th {\n        vertical-align: top;\n    }\n\n    .dataframe thead th {\n        text-align: right;\n    }\n</style>\n<table border=\"1\" class=\"dataframe\">\n  <thead>\n    <tr style=\"text-align: right;\">\n      <th></th>\n      <th>Total_query</th>\n      <th>Observed_promoters</th>\n      <th>Observed_occurr</th>\n      <th>Expected_promoters</th>\n      <th>Enrichment</th>\n    </tr>\n  </thead>\n  <tbody>\n    <tr>\n      <th>2</th>\n      <td>34</td>\n      <td>4</td>\n      <td>4</td>\n      <td>2.547</td>\n      <td>1.57</td>\n    </tr>\n    <tr>\n      <th>3</th>\n      <td>34</td>\n      <td>9</td>\n      <td>17</td>\n      <td>5.179</td>\n      <td>1.74</td>\n    </tr>\n    <tr>\n      <th>4</th>\n      <td>34</td>\n      <td>2</td>\n      <td>2</td>\n      <td>0.717</td>\n      <td>2.79</td>\n    </tr>\n    <tr>\n      <th>31</th>\n      <td>34</td>\n      <td>3</td>\n      <td>3</td>\n      <td>1.925</td>\n      <td>1.56</td>\n    </tr>\n    <tr>\n      <th>34</th>\n      <td>34</td>\n      <td>8</td>\n      <td>9</td>\n      <td>4.941</td>\n      <td>1.62</td>\n    </tr>\n    <tr>\n      <th>35</th>\n      <td>34</td>\n      <td>8</td>\n      <td>8</td>\n      <td>5.303</td>\n      <td>1.51</td>\n    </tr>\n  </tbody>\n</table>\n</div>"
          },
          "metadata": {}
        }
      ]
    },
    {
      "cell_type": "markdown",
      "source": [
        "&nbsp;"
      ],
      "metadata": {
        "id": "wcL0OfakEJfX"
      }
    },
    {
      "cell_type": "markdown",
      "source": [
        "If interested in a specific CRE, we can perform the graphical representation of the simulation:"
      ],
      "metadata": {
        "id": "rGmtjxdBEJfX"
      }
    },
    {
      "cell_type": "code",
      "source": [
        "random.seed(25)\n",
        "CRE = CREs.DRE\n",
        "goal = 4\n",
        "mc = 2000\n",
        "vals4 = runSim_Pplot(CRE,1500,goal,mc)"
      ],
      "metadata": {
        "tags": [],
        "trusted": true,
        "id": "ByLoK3KkEJfX"
      },
      "execution_count": null,
      "outputs": []
    },
    {
      "cell_type": "markdown",
      "source": [
        "# Extract sequences with enriched CRES"
      ],
      "metadata": {
        "tags": [],
        "id": "uRVP2l_NEJfX"
      }
    },
    {
      "cell_type": "markdown",
      "source": [
        "**Summary**  \n",
        " The enriched CREs are :"
      ],
      "metadata": {
        "id": "4zzRE5uoEJfY"
      }
    },
    {
      "cell_type": "code",
      "source": [
        "for i in index_list :\n",
        "    print(CREs.get_list_name_by_index(index=i, list_of_lists=CREs.all))"
      ],
      "metadata": {
        "trusted": true,
        "id": "yDV2x72WEJfY",
        "outputId": "2a833235-38bd-480b-b647-0df0f5491654"
      },
      "execution_count": null,
      "outputs": [
        {
          "name": "stdout",
          "text": "DRE\nCAMTA\nABRE\nDRE2COREZMRAB17\nLTRECOREATCOR15\nMYCATERD1\n",
          "output_type": "stream"
        }
      ]
    },
    {
      "cell_type": "code",
      "source": [
        "over = [CREs.DRE, CREs.CAMTA, CREs.ABRE, CREs.DRE2COREZMRAB17, CREs.LTRECOREATCOR15, CREs.MYCATERD1 ]"
      ],
      "metadata": {
        "trusted": true,
        "id": "X23QB2V0EJfY"
      },
      "execution_count": null,
      "outputs": []
    },
    {
      "cell_type": "code",
      "source": [
        "for i in range(len(over))  :\n",
        "    CRE = over[i]\n",
        "    a,b = search(CRE,genome)\n",
        "    print('')\n",
        "    print(CREs.get_list_name_by_index(index=i, list_of_lists=over))\n",
        "    for n in list(set(a)):\n",
        "        print(seq_names[n])"
      ],
      "metadata": {
        "trusted": true,
        "id": "UoA4XvOBEJfY",
        "outputId": "d7ecbcc7-caca-4406-9d52-691e10bbbb9b"
      },
      "execution_count": null,
      "outputs": [
        {
          "name": "stdout",
          "text": "",
          "output_type": "stream"
        },
        {
          "name": "stdout",
          "text": "\nDRE\nLOC101493118_promoter\nLOC101510419_promoter\nLOC101513562_promoter\nLOC101500959_promoter\n\nCAMTA\nLOC101500250_promoter\nLOC101509359_promoter\nLOC101503680_promoter\nLOC101504006_promoter\nLOC101513013_promoter\nLOC101510444_promoter\nLOC101498947_promoter\nLOC101508487_promoter\nLOC101490010_promoter\n\nABRE\nLOC101509049_promoter\nLOC101514275_promoter\n\nDRE2COREZMRAB17\nLOC101510419_promoter\nLOC101513562_promoter\nLOC101500959_promoter\n\nLTRECOREATCOR15\nLOC101493118_promoter\nLOC101510419_promoter\nLOC101503022_promoter\nLOC101504006_promoter\nLOC101513562_promoter\nLOC101500959_promoter\nLOC101507855_promoter\nLOC101490010_promoter\n\nMYCATERD1\nLOC101490232_promoter\nLOC101493118_promoter\nLOC101509049_promoter\nLOC101509359_promoter\nLOC101497019_promoter\nLOC101488623_promoter\nLOC101491267_promoter\nLOC101508487_promoter\n",
          "output_type": "stream"
        }
      ]
    },
    {
      "cell_type": "markdown",
      "source": [
        "**Positions of CREs in the sequence**"
      ],
      "metadata": {
        "id": "gulVqGL0EJfY"
      }
    },
    {
      "cell_type": "code",
      "source": [
        "def distFromTSS(CRE, dataset) :\n",
        "    '''Gives a list with the position of a relative motif to the Translation Start Site (TSS).\n",
        "    Requires that the promoter contains the bases of the first three amino acid.'''\n",
        "\n",
        "    a,b = search(CRE,dataset)\n",
        "    lengths =[]\n",
        "    dist = []\n",
        "    for item in a :\n",
        "        lengths.append(len(dataset[item]))\n",
        "\n",
        "    for i in range(len(b)) :\n",
        "        for item in b[i]:\n",
        "            dist.append((lengths[i]-9-item)*-1)\n",
        "\n",
        "    return dist\n",
        "\n",
        "\n",
        "def distributionFromTSS(a,b,c, occ) :\n",
        "    ''' Given a list with the relative positions to the Translation Start Site (TSS),\n",
        "    sums the occurrences of specific CREs in established ranges.\n",
        "    a, - bp upstream the TSS\n",
        "    b, + bp downstream the TSS\n",
        "    c, range length\n",
        "    occ, list of occurrences for a given cis-regulatory element'''\n",
        "\n",
        "    intervals = range(a,b,c)\n",
        "    vals = []\n",
        "\n",
        "    for interv in range(len(intervals)-1): #Loop over ranges\n",
        "        count = 0\n",
        "        for v in occ :                 #Loop over occurrences\n",
        "            if intervals[interv] < v <= intervals[interv+1] :\n",
        "                count +=1\n",
        "        vals.append(round(count/float(len(occ)),2))           #Keep track of counts for that range\n",
        "\n",
        "    return vals"
      ],
      "metadata": {
        "trusted": true,
        "id": "URC-zmbyEJfZ"
      },
      "execution_count": null,
      "outputs": []
    },
    {
      "cell_type": "markdown",
      "source": [
        "Physical position in an interval : -1500, 0"
      ],
      "metadata": {
        "id": "AqaLhRolEJfZ"
      }
    },
    {
      "cell_type": "code",
      "source": [
        "CRE = CREs.DRE\n",
        "dataset = genome\n",
        "distFromTSS(CRE, dataset)"
      ],
      "metadata": {
        "trusted": true,
        "id": "2Gh2ExRxEJfZ",
        "outputId": "f22dbaca-4aea-4dea-e0f9-b5241ad9052d"
      },
      "execution_count": null,
      "outputs": [
        {
          "execution_count": 125,
          "output_type": "execute_result",
          "data": {
            "text/plain": "[-1032, -1398, -1378, -982]"
          },
          "metadata": {}
        }
      ]
    },
    {
      "cell_type": "markdown",
      "source": [
        "Relative position (%) in 100bp intervals : -1500, 0"
      ],
      "metadata": {
        "id": "GTnOCMx2EJfZ"
      }
    },
    {
      "cell_type": "code",
      "source": [
        "dre = distributionFromTSS(-1500,100,100, distFromTSS(CREs.DRE, genome))\n",
        "dre"
      ],
      "metadata": {
        "trusted": true,
        "id": "q5fc68EzEJfZ",
        "outputId": "9146b4aa-21b8-4ec1-d637-a67a879b4990"
      },
      "execution_count": null,
      "outputs": [
        {
          "execution_count": 130,
          "output_type": "execute_result",
          "data": {
            "text/plain": "[0.0, 0.5, 0.0, 0.0, 0.25, 0.25, 0.0, 0.0, 0.0, 0.0, 0.0, 0.0, 0.0, 0.0, 0.0]"
          },
          "metadata": {}
        }
      ]
    },
    {
      "cell_type": "code",
      "source": [
        "%matplotlib inline\n",
        "import pylab\n",
        "from pylab import *\n",
        "\n",
        "ejeX = range(-1500,0,100)\n",
        "\n",
        "plot(ejeX, dre, color = 'red', lw=0.5)\n",
        "pylab.title('Distribution of CREs (DRE) in MADS box promoters \\n Chickpea genome')\n",
        "pylab.xlabel('Distance from start codon')\n",
        "pylab.ylabel('Content Percentage (%)')\n",
        "pylab.show()\n"
      ],
      "metadata": {
        "trusted": true,
        "id": "sjj5emk_EJfa",
        "outputId": "0d416c6c-2c69-4ce1-cf0b-947b17bc6757",
        "colab": {
          "base_uri": "https://localhost:8080/",
          "height": 239
        }
      },
      "execution_count": null,
      "outputs": [
        {
          "output_type": "error",
          "ename": "NameError",
          "evalue": "ignored",
          "traceback": [
            "\u001b[0;31m---------------------------------------------------------------------------\u001b[0m",
            "\u001b[0;31mNameError\u001b[0m                                 Traceback (most recent call last)",
            "\u001b[0;32m<ipython-input-1-2c2140112a0f>\u001b[0m in \u001b[0;36m<cell line: 7>\u001b[0;34m()\u001b[0m\n\u001b[1;32m      5\u001b[0m \u001b[0mejeX\u001b[0m \u001b[0;34m=\u001b[0m \u001b[0mrange\u001b[0m\u001b[0;34m(\u001b[0m\u001b[0;34m-\u001b[0m\u001b[0;36m1500\u001b[0m\u001b[0;34m,\u001b[0m\u001b[0;36m0\u001b[0m\u001b[0;34m,\u001b[0m\u001b[0;36m100\u001b[0m\u001b[0;34m)\u001b[0m\u001b[0;34m\u001b[0m\u001b[0;34m\u001b[0m\u001b[0m\n\u001b[1;32m      6\u001b[0m \u001b[0;34m\u001b[0m\u001b[0m\n\u001b[0;32m----> 7\u001b[0;31m \u001b[0mplot\u001b[0m\u001b[0;34m(\u001b[0m\u001b[0mejeX\u001b[0m\u001b[0;34m,\u001b[0m \u001b[0mdre\u001b[0m\u001b[0;34m,\u001b[0m \u001b[0mcolor\u001b[0m \u001b[0;34m=\u001b[0m \u001b[0;34m'red'\u001b[0m\u001b[0;34m,\u001b[0m \u001b[0mlw\u001b[0m\u001b[0;34m=\u001b[0m\u001b[0;36m0.5\u001b[0m\u001b[0;34m)\u001b[0m\u001b[0;34m\u001b[0m\u001b[0;34m\u001b[0m\u001b[0m\n\u001b[0m\u001b[1;32m      8\u001b[0m \u001b[0mpylab\u001b[0m\u001b[0;34m.\u001b[0m\u001b[0mtitle\u001b[0m\u001b[0;34m(\u001b[0m\u001b[0;34m'Distribution of CREs (DRE) in MADS box promoters \\n Chickpea genome'\u001b[0m\u001b[0;34m)\u001b[0m\u001b[0;34m\u001b[0m\u001b[0;34m\u001b[0m\u001b[0m\n\u001b[1;32m      9\u001b[0m \u001b[0mpylab\u001b[0m\u001b[0;34m.\u001b[0m\u001b[0mxlabel\u001b[0m\u001b[0;34m(\u001b[0m\u001b[0;34m'Distance from start codon'\u001b[0m\u001b[0;34m)\u001b[0m\u001b[0;34m\u001b[0m\u001b[0;34m\u001b[0m\u001b[0m\n",
            "\u001b[0;31mNameError\u001b[0m: name 'dre' is not defined"
          ]
        }
      ]
    },
    {
      "cell_type": "code",
      "source": [
        "camta  = distributionFromTSS(-1500,100,100, distFromTSS(CREs.CAMTA, genome))\n",
        "abre   = distributionFromTSS(-1500,100,100, distFromTSS(CREs.ABRE, genome))\n",
        "dre2   = distributionFromTSS(-1500,100,100, distFromTSS(CREs.DRE2COREZMRAB17, genome))\n",
        "ltre   = distributionFromTSS(-1500,100,100, distFromTSS(CREs.LTRECOREATCOR15, genome))\n",
        "mycat1 = distributionFromTSS(-1500,100,100, distFromTSS(CREs.MYCATERD1, genome))"
      ],
      "metadata": {
        "trusted": true,
        "id": "wP6P6tg5EJfa"
      },
      "execution_count": null,
      "outputs": []
    },
    {
      "cell_type": "code",
      "source": [
        "all = array(dre) +  array(camta) + array(abre) + array(dre2) + array(ltre) + array(mycat1)"
      ],
      "metadata": {
        "trusted": true,
        "id": "GHJjYRHlEJfa"
      },
      "execution_count": null,
      "outputs": []
    },
    {
      "cell_type": "code",
      "source": [
        "# If the previous code does not work use this code :\n",
        "#All = [sum(x) for x in zip(dre, camta, abre, dre2, ltre, mycat1)]"
      ],
      "metadata": {
        "trusted": true,
        "id": "XkzlfyC4EJfa"
      },
      "execution_count": null,
      "outputs": []
    },
    {
      "cell_type": "code",
      "source": [
        "plot(ejeX, all / sum(all) * 100, color = 'red', lw = 0.5)\n",
        "pylab.title('Distribution of CREs in MADS box \\n chickpea promoters')\n",
        "pylab.xlabel('Distance from start codon')\n",
        "pylab.ylabel('Content Percentage (%)')\n",
        "pylab.ylim([0,35])\n",
        "pylab.show()"
      ],
      "metadata": {
        "trusted": true,
        "id": "RVUSPNFmEJfb",
        "outputId": "40b9d933-07b4-43ec-facb-1ef9e3417ead"
      },
      "execution_count": null,
      "outputs": [
        {
          "output_type": "display_data",
          "data": {
            "text/plain": "<Figure size 640x480 with 1 Axes>",
            "image/png": "[encoded data removed]"
          },
          "metadata": {}
        }
      ]
    },
    {
      "cell_type": "markdown",
      "source": [
        "We can check the result comparing it with a simulation of randomly generated promoters. In this case we would expect that each interval had the same chance of having a CRE and therefore we would find a uniform distribution."
      ],
      "metadata": {
        "id": "26U3itVXEJfb"
      }
    },
    {
      "cell_type": "code",
      "source": [
        "def estimatedOccurr(CRE, bp, numTrials):\n",
        "\n",
        "    \"Return list containing positions of a given CRE within a promoter\"\n",
        "    ''' numTrials, number of simulated promoters'''\n",
        "    ''' bp, length of the promoter'''\n",
        "\n",
        "    positions = []\n",
        "\n",
        "    for i in range(numTrials) :\n",
        "        promotor = getPromoter(bp)\n",
        "        occurrences = []\n",
        "\n",
        "        for m in CRE :\n",
        "             occurrences.append(naive(m,promotor))\n",
        "             for i in range(len(occurrences)) :\n",
        "                 for pos in occurrences[i] :\n",
        "                     positions.append((1500-pos-9)*-1)\n",
        "\n",
        "    return positions"
      ],
      "metadata": {
        "trusted": true,
        "id": "kstf_K6REJfb"
      },
      "execution_count": null,
      "outputs": []
    },
    {
      "cell_type": "markdown",
      "source": [
        "We will simulate 2000/3000 promoters (1500bp) for each CRE"
      ],
      "metadata": {
        "id": "6GGmBAGtEJfb"
      }
    },
    {
      "cell_type": "code",
      "source": [
        "import random\n",
        "random.seed(123)\n",
        "sim = 3000\n",
        "\n",
        "dre_synthetic    = distributionFromTSS(-1500,100,100, estimatedOccurr(CREs.DRE,1500,sim))\n",
        "camta_synthetic  = distributionFromTSS(-1500,100,100, estimatedOccurr(CREs.CAMTA,1500,sim))\n",
        "abre_synthetic   = distributionFromTSS(-1500,100,100, estimatedOccurr(CREs.ABRE,1500,sim))\n",
        "dre2_synthetic   = distributionFromTSS(-1500,100,100, estimatedOccurr(CREs.DRE2COREZMRAB17,1500,sim))\n",
        "ltre_synthetic   = distributionFromTSS(-1500,100,100, estimatedOccurr(CREs.LTRECOREATCOR15,1500,sim))\n",
        "mycat1_synthetic = distributionFromTSS(-1500,100,100, estimatedOccurr(CREs.MYCATERD1,1500,sim))"
      ],
      "metadata": {
        "trusted": true,
        "id": "UeBbZ2UQEJfb"
      },
      "execution_count": null,
      "outputs": []
    },
    {
      "cell_type": "code",
      "source": [
        "all_synthetic = array(dre_synthetic) +  array(camta_synthetic) + array(abre_synthetic) + array(dre2_synthetic) + \\\n",
        "array(ltre_synthetic) + array(mycat1_synthetic)"
      ],
      "metadata": {
        "trusted": true,
        "id": "1S0ZAPOeEJfc"
      },
      "execution_count": null,
      "outputs": []
    },
    {
      "cell_type": "code",
      "source": [
        "%matplotlib inline\n",
        "import pylab\n",
        "from pylab import *\n",
        "ejeX = range(-1500,0,100)\n",
        "plot(ejeX, all_synthetic / sum(all_synthetic) * 100, color = 'blue', lw = 0.5)\n",
        "pylab.title('Distribution of CREs in simulated promoters')\n",
        "pylab.xlabel('Distance from start codon')\n",
        "pylab.ylabel('Content Percentage (%)')\n",
        "pylab.ylim([1,35])\n",
        "pylab.show()"
      ],
      "metadata": {
        "trusted": true,
        "id": "27dCWWT2EJfc",
        "outputId": "27e44e9e-190b-4400-e7fa-771e8bd3c499"
      },
      "execution_count": null,
      "outputs": [
        {
          "output_type": "display_data",
          "data": {
            "text/plain": "<Figure size 640x480 with 1 Axes>",
            "image/png": "[encoded data removed]"
          },
          "metadata": {}
        }
      ]
    },
    {
      "cell_type": "markdown",
      "source": [
        "(If we have many enriched CREs, we can make the figure using only the three more enriched since \\\n",
        "the less enriched distort the result)."
      ],
      "metadata": {
        "id": "yqSOPSyFEJfc"
      }
    },
    {
      "cell_type": "markdown",
      "source": [
        "&nbsp;"
      ],
      "metadata": {
        "id": "JI3lu-GVEJfc"
      }
    }
  ]
}